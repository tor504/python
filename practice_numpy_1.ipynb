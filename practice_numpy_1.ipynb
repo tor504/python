{
  "cells": [
    {
      "cell_type": "markdown",
      "metadata": {
        "id": "view-in-github",
        "colab_type": "text"
      },
      "source": [
        "<a href=\"https://colab.research.google.com/github/tor504/python/blob/main/practice_numpy_1.ipynb\" target=\"_parent\"><img src=\"https://colab.research.google.com/assets/colab-badge.svg\" alt=\"Open In Colab\"/></a>"
      ]
    },
    {
      "cell_type": "markdown",
      "metadata": {
        "id": "00U3UottOXn0"
      },
      "source": [
        "# (실습) 넘파이 어레이"
      ]
    },
    {
      "cell_type": "markdown",
      "metadata": {
        "id": "ypB1iYNIOXn2"
      },
      "source": [
        "**주의사항**\n",
        "\n",
        "- `None`은 적절한 표현식으로 대체한다.\n",
        "- `Pass`는 적절한 명령문으로 대체한다."
      ]
    },
    {
      "cell_type": "markdown",
      "metadata": {
        "id": "WppqPlrsOXn3"
      },
      "source": [
        "## numpy 모듈"
      ]
    },
    {
      "cell_type": "markdown",
      "metadata": {
        "id": "tuTctCFEOXn3"
      },
      "source": [
        "**문제 1**"
      ]
    },
    {
      "cell_type": "markdown",
      "metadata": {
        "id": "1Rk3MCirx-gA"
      },
      "source": [
        "아래 코드를 설명하라."
      ]
    },
    {
      "cell_type": "code",
      "execution_count": null,
      "metadata": {
        "id": "J71Fcvihxzi9"
      },
      "outputs": [],
      "source": [
        "import numpy as np"
      ]
    },
    {
      "cell_type": "markdown",
      "metadata": {
        "id": "7B0eVULDOXn4"
      },
      "source": [
        "`코드설명`: 이 코드는 파이썬에서 NumPy 라이브러리를 임포트(import)하는 코드"
      ]
    },
    {
      "cell_type": "markdown",
      "metadata": {
        "id": "VBOd6M56OXn4"
      },
      "source": [
        "아래 코드는 수정하지 마세요!!!"
      ]
    },
    {
      "cell_type": "code",
      "execution_count": null,
      "metadata": {
        "colab": {
          "base_uri": "https://localhost:8080/",
          "height": 35
        },
        "id": "pXMIfvi9yHG5",
        "outputId": "446d5f42-5d9d-4c01-fc81-f4f0ac390b34"
      },
      "outputs": [
        {
          "output_type": "execute_result",
          "data": {
            "text/plain": [
              "'1.25.2'"
            ],
            "application/vnd.google.colaboratory.intrinsic+json": {
              "type": "string"
            }
          },
          "metadata": {},
          "execution_count": 2
        }
      ],
      "source": [
        "import numpy as np\n",
        "\n",
        "np.__version__"
      ]
    },
    {
      "cell_type": "markdown",
      "metadata": {
        "id": "hQHX93p-OXn5"
      },
      "source": [
        "**문제 2**"
      ]
    },
    {
      "cell_type": "markdown",
      "metadata": {
        "id": "X27EIBzkOXn5"
      },
      "source": [
        "아래 코드의 기능을 설명하라"
      ]
    },
    {
      "cell_type": "code",
      "execution_count": null,
      "metadata": {
        "id": "nnZAyO2EOXn5"
      },
      "outputs": [],
      "source": [
        "np.random.seed(42)"
      ]
    },
    {
      "cell_type": "markdown",
      "metadata": {
        "id": "M2E6HAFrOXn5"
      },
      "source": [
        "`코드설명`: NumPy의 난수 생성기에 시드(seed) 값을 설정하는 역할"
      ]
    },
    {
      "cell_type": "markdown",
      "metadata": {
        "id": "xUbh5A85OXn5"
      },
      "source": [
        "**문제 3**"
      ]
    },
    {
      "cell_type": "markdown",
      "metadata": {
        "id": "5pkhrqyfOXn6"
      },
      "source": [
        "부동소수점으로 구성된 어레이의 항목은 기본적으로 소수점 이하 8자리까지 출력한다."
      ]
    },
    {
      "cell_type": "code",
      "execution_count": null,
      "metadata": {
        "colab": {
          "base_uri": "https://localhost:8080/"
        },
        "id": "DQRt9ifUOXn6",
        "outputId": "dcb06b78-5b93-40cd-b0c0-3c5662af682d"
      },
      "outputs": [
        {
          "output_type": "execute_result",
          "data": {
            "text/plain": [
              "array([[0.12384603, 0.07053564, 0.9094295 , ..., 0.41351653, 0.03981144,\n",
              "        0.2739881 ],\n",
              "       [0.95564947, 0.95363261, 0.35232705, ..., 0.69607986, 0.36250198,\n",
              "        0.82399765],\n",
              "       [0.20408766, 0.46904075, 0.80093872, ..., 0.37208225, 0.75982366,\n",
              "        0.33882348],\n",
              "       ...,\n",
              "       [0.82686785, 0.56265542, 0.76218751, ..., 0.57718668, 0.64772005,\n",
              "        0.02929944],\n",
              "       [0.61810297, 0.50950887, 0.54574968, ..., 0.45820481, 0.94501709,\n",
              "        0.67360983],\n",
              "       [0.06489928, 0.46572558, 0.24024502, ..., 0.32953041, 0.44060311,\n",
              "        0.85695013]])"
            ]
          },
          "metadata": {},
          "execution_count": 12
        }
      ],
      "source": [
        "Z = np.random.random((40,40))\n",
        "Z"
      ]
    },
    {
      "cell_type": "markdown",
      "metadata": {
        "id": "Sk06HFIpOXn6"
      },
      "source": [
        "`np.set_printoptions()` 의 기능을 다음 두 개의 예를 이용하여 설명하라."
      ]
    },
    {
      "cell_type": "code",
      "execution_count": null,
      "metadata": {
        "id": "h7OONjccOXn6"
      },
      "outputs": [],
      "source": [
        "np.set_printoptions(precision=4)"
      ]
    },
    {
      "cell_type": "code",
      "execution_count": null,
      "metadata": {
        "colab": {
          "base_uri": "https://localhost:8080/"
        },
        "id": "Y4jlIkQlOXn7",
        "outputId": "6627db06-179f-43d0-c633-c3d08d904300"
      },
      "outputs": [
        {
          "output_type": "execute_result",
          "data": {
            "text/plain": [
              "array([[0.12384603, 0.07053564, 0.9094295 , ..., 0.41351653, 0.03981144,\n",
              "        0.2739881 ],\n",
              "       [0.95564947, 0.95363261, 0.35232705, ..., 0.69607986, 0.36250198,\n",
              "        0.82399765],\n",
              "       [0.20408766, 0.46904075, 0.80093872, ..., 0.37208225, 0.75982366,\n",
              "        0.33882348],\n",
              "       ...,\n",
              "       [0.82686785, 0.56265542, 0.76218751, ..., 0.57718668, 0.64772005,\n",
              "        0.02929944],\n",
              "       [0.61810297, 0.50950887, 0.54574968, ..., 0.45820481, 0.94501709,\n",
              "        0.67360983],\n",
              "       [0.06489928, 0.46572558, 0.24024502, ..., 0.32953041, 0.44060311,\n",
              "        0.85695013]])"
            ]
          },
          "metadata": {},
          "execution_count": 13
        }
      ],
      "source": [
        "Z"
      ]
    },
    {
      "cell_type": "code",
      "execution_count": null,
      "metadata": {
        "id": "_JQeUGklOXn7"
      },
      "outputs": [],
      "source": [
        "np.set_printoptions(precision=6)"
      ]
    },
    {
      "cell_type": "code",
      "execution_count": null,
      "metadata": {
        "colab": {
          "base_uri": "https://localhost:8080/"
        },
        "id": "9zZvCGrsOXn7",
        "outputId": "f921b367-f0f1-49de-8744-b4b8cdedf7a1"
      },
      "outputs": [
        {
          "output_type": "execute_result",
          "data": {
            "text/plain": [
              "array([[0.123846, 0.070536, 0.90943 , ..., 0.413517, 0.039811, 0.273988],\n",
              "       [0.955649, 0.953633, 0.352327, ..., 0.69608 , 0.362502, 0.823998],\n",
              "       [0.204088, 0.469041, 0.800939, ..., 0.372082, 0.759824, 0.338823],\n",
              "       ...,\n",
              "       [0.826868, 0.562655, 0.762188, ..., 0.577187, 0.64772 , 0.029299],\n",
              "       [0.618103, 0.509509, 0.54575 , ..., 0.458205, 0.945017, 0.67361 ],\n",
              "       [0.064899, 0.465726, 0.240245, ..., 0.32953 , 0.440603, 0.85695 ]])"
            ]
          },
          "metadata": {},
          "execution_count": 17
        }
      ],
      "source": [
        "Z"
      ]
    },
    {
      "cell_type": "markdown",
      "metadata": {
        "id": "XD-9hzXKOXn7"
      },
      "source": [
        "`코드설명`: NumPy가 배열을 출력할 때 소수점 이하의 자릿수를 설정하는 함수입니다. 여기서는 소수점 이하 4자리,6자리까지 표시하도록 설정"
      ]
    },
    {
      "cell_type": "markdown",
      "metadata": {
        "id": "kpAVMIKtOXn7"
      },
      "source": [
        "아래 코드는 기본 옵션값으로 되돌린다. 수정하지 마세요."
      ]
    },
    {
      "cell_type": "code",
      "execution_count": null,
      "metadata": {
        "id": "TOfrRIYIOXn7"
      },
      "outputs": [],
      "source": [
        "np.set_printoptions(precision=8)"
      ]
    },
    {
      "cell_type": "markdown",
      "metadata": {
        "id": "o5Bw4TfDOXn8"
      },
      "source": [
        "## 1차원 어레이"
      ]
    },
    {
      "cell_type": "markdown",
      "metadata": {
        "id": "AOz0qqGEOXn8"
      },
      "source": [
        "**문제 1**"
      ]
    },
    {
      "cell_type": "markdown",
      "metadata": {
        "id": "D52rYqifyYtK"
      },
      "source": [
        "크기가 10이고 모든 항목이 0인 1차원 어레이를\n",
        "변수 `Z`가 가리키도록 하라.\n",
        "단, `np.zeros()` 함수를 반드시 이용한다."
      ]
    },
    {
      "cell_type": "code",
      "execution_count": null,
      "metadata": {
        "colab": {
          "base_uri": "https://localhost:8080/"
        },
        "id": "9a2qagIByT5-",
        "outputId": "adb9ebfe-43e0-4c44-8bad-a4f13f551777"
      },
      "outputs": [
        {
          "output_type": "execute_result",
          "data": {
            "text/plain": [
              "array([0., 0., 0., 0., 0., 0., 0., 0., 0., 0.])"
            ]
          },
          "metadata": {},
          "execution_count": 4
        }
      ],
      "source": [
        "# None을 적절한 표현식으로 대체하라.\n",
        "Z = np.zeros(10)\n",
        "Z"
      ]
    },
    {
      "cell_type": "markdown",
      "metadata": {
        "id": "vGmNL1CgOXn8"
      },
      "source": [
        "아래 코드는 수정하지 마세요!!!"
      ]
    },
    {
      "cell_type": "code",
      "execution_count": null,
      "metadata": {
        "id": "nvLMLhlkOXn8"
      },
      "outputs": [],
      "source": [
        "assert (Z == np.array([0., 0., 0., 0., 0., 0., 0., 0., 0., 0.])).all()"
      ]
    },
    {
      "cell_type": "markdown",
      "metadata": {
        "id": "-QtJXE_QOXn9"
      },
      "source": [
        "**문제 2**"
      ]
    },
    {
      "cell_type": "markdown",
      "metadata": {
        "id": "Bly_H3ozyaSd"
      },
      "source": [
        "변수 `Z`가 10에서 49까지의 정수 중에서 짝수로만 구성된 1차원 어레이를 가리키도록 하라.\n",
        "단, `np.arange()` 함수를 반드시 이용한다."
      ]
    },
    {
      "cell_type": "code",
      "execution_count": null,
      "metadata": {
        "colab": {
          "base_uri": "https://localhost:8080/"
        },
        "id": "0VkfsWyPKvcE",
        "outputId": "32917d46-24bb-4fe7-d31b-65aebcc52838"
      },
      "outputs": [
        {
          "output_type": "execute_result",
          "data": {
            "text/plain": [
              "array([10, 12, 14, 16, 18, 20, 22, 24, 26, 28, 30, 32, 34, 36, 38, 40, 42,\n",
              "       44, 46, 48])"
            ]
          },
          "metadata": {},
          "execution_count": 21
        }
      ],
      "source": [
        "# None을 적절한 표현식으로 대체하라.\n",
        "Z = np.arange(10,49,2)\n",
        "Z"
      ]
    },
    {
      "cell_type": "markdown",
      "metadata": {
        "id": "1_dUB_sbOXn9"
      },
      "source": [
        "아래 코드는 수정하지 마세요!!!"
      ]
    },
    {
      "cell_type": "code",
      "execution_count": null,
      "metadata": {
        "id": "qbCn45JnOXn9"
      },
      "outputs": [],
      "source": [
        "assert (Z == np.array([10, 12, 14, 16, 18, 20, 22, 24, 26, 28, 30, 32, 34, 36, 38, 40, 42,\n",
        "                        44, 46, 48])).all()"
      ]
    },
    {
      "cell_type": "markdown",
      "metadata": {
        "id": "nJ834d-2OXn9"
      },
      "source": [
        "**문제 3**"
      ]
    },
    {
      "cell_type": "markdown",
      "metadata": {
        "id": "sifeeWYxOXn-"
      },
      "source": [
        "변수 `Z`가 아래와 같이 선언되었다."
      ]
    },
    {
      "cell_type": "code",
      "execution_count": null,
      "metadata": {
        "colab": {
          "base_uri": "https://localhost:8080/"
        },
        "id": "7mo4h-dGOXn-",
        "outputId": "cb400dd6-d23a-4ce5-c96e-eae1160f4a55"
      },
      "outputs": [
        {
          "output_type": "execute_result",
          "data": {
            "text/plain": [
              "array([2, 3, 1, 0, 4])"
            ]
          },
          "metadata": {},
          "execution_count": 15
        }
      ],
      "source": [
        "Z = np.array([2, 3, 1, 0, 4])\n",
        "Z"
      ]
    },
    {
      "cell_type": "markdown",
      "metadata": {
        "id": "EWt5fcHyOXn-"
      },
      "source": [
        "변수 `Z`의 항목을 정렬하라.\n",
        "단, sort() 메서드를 활용한다."
      ]
    },
    {
      "cell_type": "code",
      "execution_count": null,
      "metadata": {
        "colab": {
          "base_uri": "https://localhost:8080/"
        },
        "id": "DUTIXp5aOXoH",
        "outputId": "de813148-9f05-46f4-f2d8-cc6ce9bc43f9"
      },
      "outputs": [
        {
          "output_type": "execute_result",
          "data": {
            "text/plain": [
              "array([0, 1, 2, 3, 4])"
            ]
          },
          "metadata": {},
          "execution_count": 33
        }
      ],
      "source": [
        "# None을 적절한 표현식으로 대체하라.\n",
        "np.sort(Z)\n",
        "Z = np.arange(5)\n",
        "Z"
      ]
    },
    {
      "cell_type": "markdown",
      "metadata": {
        "id": "ko9p0jvaOXoI"
      },
      "source": [
        "아래 코드는 수정하지 마세요!!!"
      ]
    },
    {
      "cell_type": "code",
      "execution_count": null,
      "metadata": {
        "id": "aGmEEaJZOXoI"
      },
      "outputs": [],
      "source": [
        "assert (Z == np.arange(5)).all()"
      ]
    },
    {
      "cell_type": "markdown",
      "metadata": {
        "id": "2UVKOG_GOXoI"
      },
      "source": [
        "**문제 4**"
      ]
    },
    {
      "cell_type": "markdown",
      "metadata": {
        "id": "SQ7ErNd0OXoI"
      },
      "source": [
        "변수 `Z`가 크기 30이며 무작위로 생성된 1차원 어레이를 가리키도록 하라.\n",
        "또한 포함된 항목들의 평균값을 계산하라.\n",
        "단, 어레이의 항목은 0과 1 사이의 임의의 부동소수점으로 구성되어야 한다.\n",
        "`np.random.random()` 함수, `mean()` 어레이 메서드를 반드시 이용한다."
      ]
    },
    {
      "cell_type": "code",
      "execution_count": null,
      "metadata": {
        "colab": {
          "base_uri": "https://localhost:8080/"
        },
        "id": "tLVQjjBvOXoJ",
        "outputId": "4e8107cd-94b9-4bb7-e006-e8b5b53db676"
      },
      "outputs": [
        {
          "output_type": "stream",
          "name": "stdout",
          "text": [
            "[0.57248914 0.41485672 0.74129125 0.90040758 0.1612752  0.82684588\n",
            " 0.3267662  0.47469194 0.80588234 0.66975126 0.86642459 0.81158427\n",
            " 0.26378598 0.088789   0.19607346 0.25673032 0.90566125 0.12478297\n",
            " 0.28125105 0.78485013 0.51375522 0.57334447 0.84273156 0.80207794\n",
            " 0.70413584 0.47107738 0.96484966 0.08190529 0.35251244 0.4465952 ]\n",
            "0.5409058510086472\n"
          ]
        }
      ],
      "source": [
        "# None을 적절한 표현식으로 대체하라.\n",
        "Z = np.random.random(30)\n",
        "print(Z)\n",
        "Z_mean = np.mean(Z)\n",
        "print(Z_mean)"
      ]
    },
    {
      "cell_type": "markdown",
      "metadata": {
        "id": "8Xb7zGdMOXoJ"
      },
      "source": [
        "아래 코드는 수정하지 마세요!!!"
      ]
    },
    {
      "cell_type": "code",
      "execution_count": null,
      "metadata": {
        "id": "V7bfoCsiOXoJ",
        "colab": {
          "base_uri": "https://localhost:8080/"
        },
        "outputId": "86127605-13e1-4557-cc99-52b8450d48a0"
      },
      "outputs": [
        {
          "output_type": "stream",
          "name": "stdout",
          "text": [
            "1차원 어레이 평균값: 0.5409058510086472\n"
          ]
        }
      ],
      "source": [
        "assert (Z.shape == (30,))\n",
        "print(f\"1차원 어레이 평균값: {Z_mean}\")"
      ]
    },
    {
      "cell_type": "markdown",
      "metadata": {
        "id": "nzJSK8EmOXoJ"
      },
      "source": [
        "**문제 5**"
      ]
    },
    {
      "cell_type": "markdown",
      "metadata": {
        "id": "pocSZJSY-y56"
      },
      "source": [
        "1차원 어레이가 다음과 같이 주어졌다."
      ]
    },
    {
      "cell_type": "code",
      "execution_count": null,
      "metadata": {
        "colab": {
          "base_uri": "https://localhost:8080/"
        },
        "id": "Esfo2MwSOXoK",
        "outputId": "9eaeaf52-770d-49fc-b66e-67ae15d4adaa"
      },
      "outputs": [
        {
          "output_type": "execute_result",
          "data": {
            "text/plain": [
              "array([1, 2, 3])"
            ]
          },
          "metadata": {},
          "execution_count": 19
        }
      ],
      "source": [
        "Z = np.arange(1, 4)\n",
        "Z"
      ]
    },
    {
      "cell_type": "markdown",
      "metadata": {
        "id": "xYBrNvj7OXoK"
      },
      "source": [
        "(1) 아래 표현식의 계산 결과를 설명하라."
      ]
    },
    {
      "cell_type": "code",
      "execution_count": null,
      "metadata": {
        "id": "ZMAOCK-mZVbd",
        "colab": {
          "base_uri": "https://localhost:8080/"
        },
        "outputId": "101183a1-9bf2-4b60-d4b4-699e956907ed"
      },
      "outputs": [
        {
          "output_type": "execute_result",
          "data": {
            "text/plain": [
              "array([1, 4, 9])"
            ]
          },
          "metadata": {},
          "execution_count": 20
        }
      ],
      "source": [
        "Z*Z"
      ]
    },
    {
      "cell_type": "markdown",
      "metadata": {
        "id": "SWbh5hPJOXoL"
      },
      "source": [
        "`코드설명`:"
      ]
    },
    {
      "cell_type": "markdown",
      "metadata": {
        "id": "5vC0HyeFOXoL"
      },
      "source": [
        "(2) 아래 표현식의 계산 결과를 설명하라."
      ]
    },
    {
      "cell_type": "code",
      "execution_count": null,
      "metadata": {
        "id": "siYxqURfOXoL",
        "colab": {
          "base_uri": "https://localhost:8080/"
        },
        "outputId": "4224f2ca-307d-4767-be66-bd083cbe5a3d"
      },
      "outputs": [
        {
          "output_type": "execute_result",
          "data": {
            "text/plain": [
              "array([ 1,  4, 27])"
            ]
          },
          "metadata": {},
          "execution_count": 21
        }
      ],
      "source": [
        "Z**Z"
      ]
    },
    {
      "cell_type": "markdown",
      "metadata": {
        "id": "eJoPdPMdOXoL"
      },
      "source": [
        "`코드설명`: 이는 각 요소를 제곱한 값들이 포함된 배열"
      ]
    },
    {
      "cell_type": "markdown",
      "metadata": {
        "id": "IRIFK8pJOXoM"
      },
      "source": [
        "(3) 아래 표현식의 계산 결과를 설명하라."
      ]
    },
    {
      "cell_type": "code",
      "execution_count": null,
      "metadata": {
        "colab": {
          "base_uri": "https://localhost:8080/"
        },
        "id": "CJfJkqQ8ZhZI",
        "outputId": "ccf8f97c-0d69-4a8c-9582-3347121986d2"
      },
      "outputs": [
        {
          "output_type": "execute_result",
          "data": {
            "text/plain": [
              "array([False, False, False])"
            ]
          },
          "metadata": {},
          "execution_count": 22
        }
      ],
      "source": [
        "Z < -Z"
      ]
    },
    {
      "cell_type": "markdown",
      "metadata": {
        "id": "9lKgacQIOXoM"
      },
      "source": [
        "`코드설명`: Z가 [1, 2, 3]일 때, -Z는 [-1, -2, -3]이 됩니다. 따라서 요소별로 비교하면 [1 < -1, 2 < -2, 3 < -3]이 됩니다. 이는 다음과 같이 계산됩니다:각 요소가 자신의 음수보다 작은지 여부를 나타내는 부울 배열"
      ]
    },
    {
      "cell_type": "markdown",
      "metadata": {
        "id": "ee27dw0wOXoM"
      },
      "source": [
        "(4) 아래 표현식의 계산 결과를 설명하라."
      ]
    },
    {
      "cell_type": "code",
      "execution_count": null,
      "metadata": {
        "colab": {
          "base_uri": "https://localhost:8080/"
        },
        "id": "wYc9wQ29ZoHt",
        "outputId": "adf3eed9-8565-4569-9e3b-c273f64175eb"
      },
      "outputs": [
        {
          "output_type": "execute_result",
          "data": {
            "text/plain": [
              "array([1., 2., 3.])"
            ]
          },
          "metadata": {},
          "execution_count": 23
        }
      ],
      "source": [
        "Z/1/1"
      ]
    },
    {
      "cell_type": "markdown",
      "metadata": {
        "id": "B84sUoxpOXoN"
      },
      "source": [
        "`코드설명`: Z가 1부터 3까지의 값을 가지는 NumPy 배열일 때, Z/1/1은 각 요소를 1로 나눈 후 다시 1로 나눈 값을 반환 각 요소를 1로 나눈 후 다시 1로 나눈 값들을 나타냅니다."
      ]
    },
    {
      "cell_type": "markdown",
      "metadata": {
        "id": "t5ekn6g8OXoN"
      },
      "source": [
        "**문제 6**"
      ]
    },
    {
      "cell_type": "markdown",
      "metadata": {
        "id": "XPFRv49COXoN"
      },
      "source": [
        "변수 `Z`가 아래 모양의 어레이를 가리키도록 하라.\n",
        "단, `np.linspace()` 함수와 `endpoint` 키워드 인자를 이용한다.\n",
        "\n",
        "```\n",
        "[0. , 0.1, 0.2, 0.3, 0.4, 0.5, 0.6, 0.7, 0.8, 0.9]\n",
        "```"
      ]
    },
    {
      "cell_type": "code",
      "execution_count": null,
      "metadata": {
        "colab": {
          "base_uri": "https://localhost:8080/"
        },
        "id": "BW-iLZvCOXoN",
        "outputId": "98a2703a-561d-4966-b8d5-c905ecbb800e"
      },
      "outputs": [
        {
          "output_type": "execute_result",
          "data": {
            "text/plain": [
              "array([0. , 0.1, 0.2, 0.3, 0.4, 0.5, 0.6, 0.7, 0.8, 0.9])"
            ]
          },
          "metadata": {},
          "execution_count": 24
        }
      ],
      "source": [
        "# None을 적절한 표현식으로 대체하라.\n",
        "Z = np.linspace(0,0.9,num = 10,endpoint=True)\n",
        "Z"
      ]
    },
    {
      "cell_type": "markdown",
      "metadata": {
        "id": "i7o8m7VBOXoN"
      },
      "source": [
        "아래 코드는 수정하지 마세요!!!"
      ]
    },
    {
      "cell_type": "code",
      "execution_count": null,
      "metadata": {
        "id": "IP-lQnGQOXoO"
      },
      "outputs": [],
      "source": [
        "assert np.isclose(Z, np.array([0. , 0.1, 0.2, 0.3, 0.4, 0.5, 0.6, 0.7, 0.8, 0.9])).all()"
      ]
    },
    {
      "cell_type": "markdown",
      "metadata": {
        "id": "O-fJrOygOXoO"
      },
      "source": [
        "**문제 7**"
      ]
    },
    {
      "cell_type": "markdown",
      "metadata": {
        "lines_to_next_cell": 0,
        "id": "qVVTzbhgOXoO"
      },
      "source": [
        "아래 코드의 실행결과를 설명하라."
      ]
    },
    {
      "cell_type": "code",
      "execution_count": null,
      "metadata": {
        "colab": {
          "base_uri": "https://localhost:8080/"
        },
        "id": "JBa1ae91OXoO",
        "outputId": "a4f254b6-edeb-49f3-969f-8b915568d72f"
      },
      "outputs": [
        {
          "output_type": "stream",
          "name": "stdout",
          "text": [
            "800 bytes\n"
          ]
        }
      ],
      "source": [
        "Z = np.zeros((10,10)) #이 코드는 10x10 크기의 모든 요소가 0으로 채워진 2차원 NumPy 배열을 생성하고, 이 배열이 차지하는 메모리 크기를 계산하여 바이트 단위로 출력하는 것입니다.\n",
        "print(\"%d bytes\" % (Z.size * Z.itemsize)) # 배열이 차지하는 메모리 크기 출력"
      ]
    },
    {
      "cell_type": "markdown",
      "metadata": {
        "id": "-M5bxOY4OXoP"
      },
      "source": [
        "`코드설명`: 10x10 크기의 모든 요소가 0으로 채워진 2차원 NumPy 배열을 생성하고, 이 배열이 차지하는 메모리 크기를 계산하여 바이트 단위로 출력하는 것입니다."
      ]
    },
    {
      "cell_type": "markdown",
      "metadata": {
        "id": "bK_wTf0UOXoP"
      },
      "source": [
        "**문제 8**"
      ]
    },
    {
      "cell_type": "markdown",
      "metadata": {
        "id": "5avsGWvgOXoP"
      },
      "source": [
        "다음 리스트에서 0이 아닌 항목들의 인덱스로 구성된 어레이를 한줄 코드로 생성하라.\n",
        "단. `np.nonzero()` 함수를 활용한다."
      ]
    },
    {
      "cell_type": "code",
      "execution_count": null,
      "metadata": {
        "id": "k6YQMFq6OXoP"
      },
      "outputs": [],
      "source": [
        "Z = [1, 2, 0, 0, 4, 0]"
      ]
    },
    {
      "cell_type": "code",
      "execution_count": null,
      "metadata": {
        "colab": {
          "base_uri": "https://localhost:8080/"
        },
        "id": "UXvTBBrZOXoQ",
        "outputId": "ee6145a0-04d3-40f4-9b60-44fbd7f2f210"
      },
      "outputs": [
        {
          "output_type": "stream",
          "name": "stdout",
          "text": [
            "(array([0, 0, 0, 0, 0, 1, 1, 1, 1, 1, 2, 2, 2, 2, 2, 3, 3, 3, 3, 3, 4, 4,\n",
            "       4, 4, 4]), array([0, 1, 2, 3, 4, 0, 1, 2, 3, 4, 0, 1, 2, 3, 4, 0, 1, 2, 3, 4, 0, 1,\n",
            "       2, 3, 4]))\n"
          ]
        }
      ],
      "source": [
        "# None을 적절한 표현식으로 대체하라.\n",
        "non_zeros = np.nonzero(Z)\n",
        "print(non_zeros)"
      ]
    },
    {
      "cell_type": "markdown",
      "metadata": {
        "id": "9sXOzi3MOXoQ"
      },
      "source": [
        "아래 코드는 수정하지 마세요!!!"
      ]
    },
    {
      "cell_type": "code",
      "execution_count": null,
      "metadata": {
        "id": "EwI-ljIhOXoQ"
      },
      "outputs": [],
      "source": [
        "assert (non_zeros == np.array([0, 1, 4])).all()"
      ]
    },
    {
      "cell_type": "markdown",
      "metadata": {
        "id": "vjvnC0GcOXoQ"
      },
      "source": [
        "**문제 9**"
      ]
    },
    {
      "cell_type": "markdown",
      "metadata": {
        "id": "t2doMtakOXoQ"
      },
      "source": [
        "두 개의 1차원 어레이가 다음과 같이 주어졌다."
      ]
    },
    {
      "cell_type": "code",
      "execution_count": null,
      "metadata": {
        "id": "8nalYl6YOXoR"
      },
      "outputs": [],
      "source": [
        "A = np.ones(3)*1\n",
        "B = np.ones(3)*2"
      ]
    },
    {
      "cell_type": "markdown",
      "metadata": {
        "id": "UcdfugnUOXoR"
      },
      "source": [
        "아래 코드의 실행 결과를 설명하라."
      ]
    },
    {
      "cell_type": "code",
      "execution_count": null,
      "metadata": {
        "colab": {
          "base_uri": "https://localhost:8080/"
        },
        "id": "QVPgA8WBOXoR",
        "outputId": "c0aa71ed-e942-4ae0-8fa8-f693df35eeae"
      },
      "outputs": [
        {
          "output_type": "execute_result",
          "data": {
            "text/plain": [
              "array([-1.5, -1.5, -1.5])"
            ]
          },
          "metadata": {},
          "execution_count": 36
        }
      ],
      "source": [
        "(A+B)*(-A/2)"
      ]
    },
    {
      "cell_type": "markdown",
      "metadata": {
        "id": "TSy9mphYOXoR"
      },
      "source": [
        "`코드설명`: A와 B를 각각 생성합니다.\n",
        "\n",
        "A는 1로 이루어진 크기가 3인 1차원 배열이 되며, [1. 1. 1.]입니다.\n",
        "B는 2로 이루어진 크기가 3인 1차원 배열이 되며, [2. 2. 2.]입니다.\n",
        "A와 B를 더한 후, -A/2를 곱합니다.\n",
        "\n",
        "A+B는 [3. 3. 3.]이 됩니다.\n",
        "-A/2는 [[-0.5 -0.5 -0.5], [-0.5 -0.5 -0.5], [-0.5 -0.5 -0.5]]가 됩니다. (브로드캐스팅 연산에 의해 각 요소가 -0.5로 계산됩니다.)\n",
        "위의 두 배열을 곱합니다.\n",
        "\n",
        "(A+B)*(-A/2)는 [[ -1.5 -1.5 -1.5], [ -1.5 -1.5 -1.5], [ -1.5 -1.5 -1.5]]가 됩니다.\n",
        "따라서 결과로는 -1.5로 이루어진 2차원 배열이 반환"
      ]
    },
    {
      "cell_type": "code",
      "execution_count": null,
      "metadata": {
        "colab": {
          "base_uri": "https://localhost:8080/"
        },
        "id": "yLTQYDqMOXoS",
        "outputId": "c8a0474c-3322-4607-d464-885be27d5c5b"
      },
      "outputs": [
        {
          "output_type": "execute_result",
          "data": {
            "text/plain": [
              "array([3., 3., 3.])"
            ]
          },
          "metadata": {},
          "execution_count": 37
        }
      ],
      "source": [
        "np.add(A,B,out=B)"
      ]
    },
    {
      "cell_type": "markdown",
      "metadata": {
        "id": "ZnPclu8vOXoS"
      },
      "source": [
        "`코드설명`:\n",
        "np.add(A, B, out=B)는 두 개의 배열 A와 B를 더한 후 결과를 B에 저장하는 연산입니다.\n",
        "\n",
        "여기서 A와 B는 이미 생성된 배열이고, out 매개변수를 사용하여 연산 결과를 B에 저장하도록 지시하고 있습니다.\n",
        "\n",
        "따라서 A와 B를 더한 결과는 B에 저장되어 B의 내용이 변경됩니다. 즉, B의 값은 [1. 1. 1.]에서 [3. 3. 3.]으로 바뀌게 됩니다."
      ]
    },
    {
      "cell_type": "code",
      "execution_count": null,
      "metadata": {
        "colab": {
          "base_uri": "https://localhost:8080/"
        },
        "id": "IHE9_tvbOXoS",
        "outputId": "4145bfac-8068-4496-e791-0051b204b06b"
      },
      "outputs": [
        {
          "output_type": "execute_result",
          "data": {
            "text/plain": [
              "array([-0.09375, -0.09375, -0.09375])"
            ]
          },
          "metadata": {},
          "execution_count": 47
        }
      ],
      "source": [
        "np.divide(A,2,out=A)"
      ]
    },
    {
      "cell_type": "markdown",
      "metadata": {
        "id": "TvXZqx_COXoS"
      },
      "source": [
        "`코드설명`: np.divide(A, 2, out=A)는 배열 A의 모든 요소를 2로 나눈 후 그 결과를 다시 배열 A에 저장하는 연산입니다.\n",
        "\n",
        "여기서 A는 이미 생성된 배열이고, out 매개변수를 사용하여 연산 결과를 A에 저장하도록 지시하고 있습니다.\n",
        "\n",
        "따라서 A의 모든 요소가 2로 나눠진 후 그 결과가 다시 A에 저장됩니다. 따라서 A의 값은 [1. 1. 1.]에서 [0.5 0.5 0.5]로 변경됩니다."
      ]
    },
    {
      "cell_type": "code",
      "execution_count": null,
      "metadata": {
        "colab": {
          "base_uri": "https://localhost:8080/"
        },
        "id": "uD_67ZbbOXoT",
        "outputId": "7ddbc860-5c90-4cbe-b7fe-dab31d4b85fe"
      },
      "outputs": [
        {
          "output_type": "execute_result",
          "data": {
            "text/plain": [
              "array([-0.5, -0.5, -0.5])"
            ]
          },
          "metadata": {},
          "execution_count": 39
        }
      ],
      "source": [
        "np.negative(A,out=A)"
      ]
    },
    {
      "cell_type": "markdown",
      "metadata": {
        "id": "hA0qMMkDOXoT"
      },
      "source": [
        "`코드설명`: np.negative(A, out=A)는 배열 A의 모든 요소를 부정(negative)한 후 그 결과를 다시 배열 A에 저장하는 연산입니다.\n",
        "\n",
        "여기서 A는 이미 생성된 배열이고, out 매개변수를 사용하여 연산 결과를 A에 저장하도록 지시하고 있습니다.\n",
        "\n",
        "따라서 A의 모든 요소에 대해 부정 연산이 수행되고, 그 결과가 다시 A에 저장됩니다. 예를 들어, [0.5, 0.5, 0.5]의 경우 -0.5, -0.5, -0.5가 되어 배열 A에 저장"
      ]
    },
    {
      "cell_type": "code",
      "execution_count": null,
      "metadata": {
        "colab": {
          "base_uri": "https://localhost:8080/"
        },
        "id": "amhART25OXoT",
        "outputId": "f0a21c89-438b-4762-c630-80a378b3558c"
      },
      "outputs": [
        {
          "output_type": "execute_result",
          "data": {
            "text/plain": [
              "array([-1.5, -1.5, -1.5])"
            ]
          },
          "metadata": {},
          "execution_count": 40
        }
      ],
      "source": [
        "np.multiply(A,B,out=A)"
      ]
    },
    {
      "cell_type": "markdown",
      "metadata": {
        "id": "DmyHXYKFOXoT"
      },
      "source": [
        "`코드설명`: np.multiply(A, B, out=A)는 두 개의 배열 A와 B의 요소별 곱셈을 수행한 후 결과를 다시 배열 A에 저장하는 연산입니다.\n",
        "\n",
        "여기서 A와 B는 이미 생성된 배열이고, out 매개변수를 사용하여 연산 결과를 A에 저장하도록 지시하고 있습니다.\n",
        "\n",
        "따라서 A와 B의 요소별 곱셈이 수행되고, 그 결과가 다시 A에 저장됩니다. 이는 각각의 요소별로 곱셈이 이루어지므로 결과는 [1 * 3, 1 * 3, 1 * 3] 즉 [3, 3, 3]이 되어 배열 A에 저장됩니다."
      ]
    },
    {
      "cell_type": "markdown",
      "metadata": {
        "id": "imWJFhXNOXoT"
      },
      "source": [
        "## 2차원 어레이"
      ]
    },
    {
      "cell_type": "markdown",
      "metadata": {
        "id": "KIyrNOgwOXoT"
      },
      "source": [
        "**문제 1**"
      ]
    },
    {
      "cell_type": "markdown",
      "metadata": {
        "id": "dUjeSWiGOXoT"
      },
      "source": [
        "변수 `Z`가 (5, 5) 모양의 2차원 어레이를 가리키도록 하라.\n",
        "단, 어레이의 항목은 0과 1 사이의 임의의 부동소수점으로 구성되어야 한다.\n",
        "또한 `np.random.random()` 함수를 이용한다."
      ]
    },
    {
      "cell_type": "code",
      "execution_count": null,
      "metadata": {
        "colab": {
          "base_uri": "https://localhost:8080/"
        },
        "id": "tLqnFpbKOXoU",
        "outputId": "eeecbf03-188d-4137-e1bf-257c790643d9"
      },
      "outputs": [
        {
          "output_type": "execute_result",
          "data": {
            "text/plain": [
              "array([[0.32200271, 0.70844457, 0.68983597, 0.77519908, 0.97203772],\n",
              "       [0.04111446, 0.8921423 , 0.93311795, 0.94764889, 0.92358193],\n",
              "       [0.31209555, 0.47184125, 0.07952485, 0.39885599, 0.32194123],\n",
              "       [0.63714165, 0.49073778, 0.82794053, 0.68877797, 0.61837552],\n",
              "       [0.2808026 , 0.9579426 , 0.95068891, 0.29964537, 0.73162882]])"
            ]
          },
          "metadata": {},
          "execution_count": 41
        }
      ],
      "source": [
        "# None을 적절한 표현식으로 대체하라.\n",
        "Z = np.random.random((5,5))\n",
        "Z"
      ]
    },
    {
      "cell_type": "markdown",
      "metadata": {
        "id": "Y8qU7WPKOXoU"
      },
      "source": [
        "아래 코드는 수정하지 마세요!!!"
      ]
    },
    {
      "cell_type": "code",
      "execution_count": null,
      "metadata": {
        "id": "baZWp3X2OXoU"
      },
      "outputs": [],
      "source": [
        "assert (Z.shape == (5, 5))\n",
        "assert (Z.dtype == np.float64)"
      ]
    },
    {
      "cell_type": "markdown",
      "metadata": {
        "id": "EasNcC-POXoU"
      },
      "source": [
        "**문제 2**"
      ]
    },
    {
      "cell_type": "markdown",
      "metadata": {
        "id": "K3IRP0_yzg5h"
      },
      "source": [
        "변수 `Z`가 0에서 8까지의 정수로 이루어진 (3, 3) 모양의 2차원 어레이를 가리키도록 하라.\n",
        "단, `np.arange()` 함수와 `reshape()` 어레이 메서드를 반드시 이용한다."
      ]
    },
    {
      "cell_type": "code",
      "execution_count": null,
      "metadata": {
        "id": "3TnVoMehK1vg",
        "colab": {
          "base_uri": "https://localhost:8080/"
        },
        "outputId": "5b79a69f-dd4c-4003-f165-17bdd16d954a"
      },
      "outputs": [
        {
          "output_type": "stream",
          "name": "stdout",
          "text": [
            "[[0 1 2]\n",
            " [3 4 5]\n",
            " [6 7 8]]\n"
          ]
        }
      ],
      "source": [
        "# None을 적절한 표현식으로 대체하라.\n",
        "import numpy as np\n",
        "\n",
        "# np.arange() 함수를 사용하여 0에서 8까지의 정수를 생성하고 reshape() 메서드를 사용하여 (3, 3) 모양의 2차원 어레이로 변환합니다.\n",
        "Z = np.arange(9).reshape(3, 3)\n",
        "\n",
        "print(Z)"
      ]
    },
    {
      "cell_type": "markdown",
      "metadata": {
        "id": "9_An_xsGOXoV"
      },
      "source": [
        "아래 코드는 수정하지 마세요!!!"
      ]
    },
    {
      "cell_type": "code",
      "execution_count": null,
      "metadata": {
        "id": "NSPKARR_OXoV"
      },
      "outputs": [],
      "source": [
        "assert (Z == np.array([[0, 1, 2],\n",
        "                       [3, 4, 5],\n",
        "                       [6, 7, 8]])).all()"
      ]
    },
    {
      "cell_type": "markdown",
      "metadata": {
        "id": "8F3dQDNKOXoV"
      },
      "source": [
        "**문제 3**"
      ]
    },
    {
      "cell_type": "markdown",
      "metadata": {
        "id": "gIbB_bc8OXoV"
      },
      "source": [
        "변수 `Z`가 (3, 3) 모양의 2차원 어레이를 가리키도록 하라.\n",
        "단, 2차원 어레이의 대각선 상은 1이고 나머지는 0이어야 한다.\n",
        "또한 `np.eye()` 함수를 반드시 이용한다."
      ]
    },
    {
      "cell_type": "code",
      "execution_count": null,
      "metadata": {
        "id": "hF_WIcFkLDEM",
        "colab": {
          "base_uri": "https://localhost:8080/"
        },
        "outputId": "6eea0377-2b79-4d27-d847-6b0675b7b8d5"
      },
      "outputs": [
        {
          "output_type": "stream",
          "name": "stdout",
          "text": [
            "[[1. 0. 0.]\n",
            " [0. 1. 0.]\n",
            " [0. 0. 1.]]\n"
          ]
        }
      ],
      "source": [
        "# None을 적절한 표현식으로 대체하라.\n",
        "import numpy as np\n",
        "\n",
        "Z = np.eye(3)\n",
        "\n",
        "print(Z)\n"
      ]
    },
    {
      "cell_type": "markdown",
      "metadata": {
        "id": "qjE7gXp8OXoW"
      },
      "source": [
        "아래 코드는 수정하지 마세요!!!"
      ]
    },
    {
      "cell_type": "code",
      "execution_count": null,
      "metadata": {
        "id": "Q_GxXYCdOXoW"
      },
      "outputs": [],
      "source": [
        "assert (Z == np.array([[1., 0., 0.],\n",
        "                       [0., 1., 0.],\n",
        "                       [0., 0., 1.]])).all"
      ]
    },
    {
      "cell_type": "markdown",
      "metadata": {
        "id": "8ps1jAXtOXoW"
      },
      "source": [
        "**문제 4**"
      ]
    },
    {
      "cell_type": "markdown",
      "metadata": {
        "id": "-lVeSOZgOXoX"
      },
      "source": [
        "변수 `Z`가 아래와 같은 (5,5) 모양의 2차원 어레이를 가리키도록 하라.\n",
        "단, `np.arange()` 함수와 `np.diag()` 함수의 `k` 키워드 인자를 반드시 활용한다.\n",
        "\n",
        "```\n",
        "[[0 0 0 0 0]\n",
        " [1 0 0 0 0]\n",
        " [0 2 0 0 0]\n",
        " [0 0 3 0 0]\n",
        " [0 0 0 4 0]]\n",
        "```"
      ]
    },
    {
      "cell_type": "code",
      "execution_count": null,
      "metadata": {
        "id": "yqe6rLXMMbiN",
        "colab": {
          "base_uri": "https://localhost:8080/"
        },
        "outputId": "dbdcad62-0713-49c7-8ad1-0606a993dbe4"
      },
      "outputs": [
        {
          "output_type": "stream",
          "name": "stdout",
          "text": [
            "[[0 0 0 0 0]\n",
            " [1 0 0 0 0]\n",
            " [0 2 0 0 0]\n",
            " [0 0 3 0 0]\n",
            " [0 0 0 4 0]]\n"
          ]
        }
      ],
      "source": [
        "# None을 적절한 표현식으로 대체하라.\n",
        "Z = np.diag(np.arange(1,5), k=-1)\n",
        "print(Z)"
      ]
    },
    {
      "cell_type": "markdown",
      "metadata": {
        "id": "-1N4SZizOXoX"
      },
      "source": [
        "아래 코드는 수정하지 마세요!!!"
      ]
    },
    {
      "cell_type": "code",
      "execution_count": null,
      "metadata": {
        "id": "u0caRIPyOXoX"
      },
      "outputs": [],
      "source": [
        "assert (Z == np.array([[0, 0, 0, 0, 0],\n",
        "                        [1, 0, 0, 0, 0],\n",
        "                        [0, 2, 0, 0, 0],\n",
        "                        [0, 0, 3, 0, 0],\n",
        "                        [0, 0, 0, 4, 0]])).all()"
      ]
    },
    {
      "cell_type": "markdown",
      "metadata": {
        "id": "50x9f3eOOXoX"
      },
      "source": [
        "**문제 5**"
      ]
    },
    {
      "cell_type": "markdown",
      "metadata": {
        "id": "x2cnJDWSOXoY"
      },
      "source": [
        "변수 `Z`가 아래와 같은 (5, 5) 모양의 2차원 어레이를 가리키도록 하라.\n",
        "단, `np.zeros()` 함수, `np.arange()` 함수, 2차원 어레이 덧셈을 이용한다.\n",
        "\n",
        "```\n",
        "[[0. 1. 2. 3. 4.]\n",
        " [0. 1. 2. 3. 4.]\n",
        " [0. 1. 2. 3. 4.]\n",
        " [0. 1. 2. 3. 4.]\n",
        " [0. 1. 2. 3. 4.]]\n",
        "```"
      ]
    },
    {
      "cell_type": "code",
      "execution_count": null,
      "metadata": {
        "id": "1eXRQS31czdk",
        "colab": {
          "base_uri": "https://localhost:8080/"
        },
        "outputId": "d38503bb-0ff1-44d6-8779-07e530dc4734"
      },
      "outputs": [
        {
          "output_type": "stream",
          "name": "stdout",
          "text": [
            "[[0. 1. 2. 3. 4.]\n",
            " [0. 1. 2. 3. 4.]\n",
            " [0. 1. 2. 3. 4.]\n",
            " [0. 1. 2. 3. 4.]\n",
            " [0. 1. 2. 3. 4.]]\n"
          ]
        }
      ],
      "source": [
        "# None을 적절한 표현식으로 대체하라.\n",
        "import numpy as np\n",
        "\n",
        "# np.arange() 함수를 사용하여 0에서 4까지의 정수를 생성하고 reshape() 메서드를 사용하여 (1, 5) 모양의 2차원 어레이로 변환합니다.\n",
        "arr = np.arange(5).reshape(1, 5)\n",
        "\n",
        "# np.zeros() 함수를 사용하여 모든 요소가 0인 (5, 5) 모양의 2차원 어레이를 생성합니다.\n",
        "zeros_arr = np.zeros((5, 5))\n",
        "\n",
        "# 두 어레이를 더하여 변수 Z에 할당합니다.\n",
        "Z = arr + zeros_arr\n",
        "\n",
        "print(Z)"
      ]
    },
    {
      "cell_type": "markdown",
      "metadata": {
        "id": "qlBLexcxOXoY"
      },
      "source": [
        "아래 코드는 수정하지 마세요!!!"
      ]
    },
    {
      "cell_type": "code",
      "execution_count": null,
      "metadata": {
        "id": "fdK3oQ9BOXoY"
      },
      "outputs": [],
      "source": [
        "assert (Z == np.array([[0., 1., 2., 3., 4.],\n",
        "                        [0., 1., 2., 3., 4.],\n",
        "                        [0., 1., 2., 3., 4.],\n",
        "                        [0., 1., 2., 3., 4.],\n",
        "                        [0., 1., 2., 3., 4.]])).all()"
      ]
    },
    {
      "cell_type": "markdown",
      "metadata": {
        "id": "t1h2Tt4IOXoY"
      },
      "source": [
        "**문제 6**"
      ]
    },
    {
      "cell_type": "markdown",
      "metadata": {
        "id": "ouPS3j1yOXoY"
      },
      "source": [
        "아래 3x3 단위 행렬에 해당하는 2차원 어레이를 한줄 코드로 생성하라.\n",
        "단, `np.eye()` 함수를 이용한다.\n",
        "\n",
        "```\n",
        "[[1. 0. 0.]\n",
        " [0. 1. 0.]\n",
        " [0. 0. 1.]]\n",
        "```"
      ]
    },
    {
      "cell_type": "code",
      "execution_count": null,
      "metadata": {
        "id": "W_rERgkFOXoZ",
        "colab": {
          "base_uri": "https://localhost:8080/"
        },
        "outputId": "ee76da56-37e4-4603-be39-ad74aa77be13"
      },
      "outputs": [
        {
          "output_type": "stream",
          "name": "stdout",
          "text": [
            "[[1. 0. 0.]\n",
            " [0. 1. 0.]\n",
            " [0. 0. 1.]]\n"
          ]
        }
      ],
      "source": [
        "# None을 적절한 표현식으로 대체하라.\n",
        "import numpy as np\n",
        "Z = np.eye(3)\n",
        "print(Z)"
      ]
    },
    {
      "cell_type": "markdown",
      "metadata": {
        "id": "PhGBAIJ4OXoZ"
      },
      "source": [
        "아래 코드는 수정하지 마세요!!!"
      ]
    },
    {
      "cell_type": "code",
      "execution_count": null,
      "metadata": {
        "id": "9agTZyE9OXoZ"
      },
      "outputs": [],
      "source": [
        "assert (Z == np.array([[1., 0., 0.],\n",
        "                       [0., 1., 0.],\n",
        "                       [0., 0., 1.]])).all()"
      ]
    },
    {
      "cell_type": "markdown",
      "metadata": {
        "id": "cNJAS3eJOXoZ"
      },
      "source": [
        "**문제 7**"
      ]
    },
    {
      "cell_type": "markdown",
      "metadata": {
        "id": "CjzSC7h6OXoZ"
      },
      "source": [
        "무작위 수로 구성된 (5, 5) 모양의 2차원 어레이가 다음과 같다."
      ]
    },
    {
      "cell_type": "code",
      "execution_count": null,
      "metadata": {
        "id": "IgwvZExNOXoZ"
      },
      "outputs": [],
      "source": [
        "Z = np.random.random((5, 5))"
      ]
    },
    {
      "cell_type": "markdown",
      "metadata": {
        "id": "_VpWbzRtOXoa"
      },
      "source": [
        "변수 `Z`가 가리키는 2차원 어레이에 대해 min-max 크기조정(정규화)을 적용하라.\n",
        "\n",
        "min-max 크기조정(정규화)은 항목의 모든 값을 아래 식을 통해 0과 1 사이의 부동소수점으로 변환한다. $max$와 $min$은 각각 최대 항목과 최소 항목을 가리킨다.\n",
        "\n",
        "$$\n",
        "\\frac{x-min}{max - min}\n",
        "$$"
      ]
    },
    {
      "cell_type": "code",
      "execution_count": null,
      "metadata": {
        "id": "HZRFbP1gOXoa",
        "colab": {
          "base_uri": "https://localhost:8080/"
        },
        "outputId": "a771b20f-5fe1-4ac4-dfcb-e4b1b8782b16"
      },
      "outputs": [
        {
          "output_type": "execute_result",
          "data": {
            "text/plain": [
              "array([[0.40095628, 0.85383929, 0.5587484 , 0.7786887 , 0.82577256],\n",
              "       [0.63164195, 0.33157493, 0.50566974, 0.44804048, 0.75549688],\n",
              "       [0.66003013, 0.74363987, 1.        , 0.38228511, 0.90502926],\n",
              "       [0.        , 0.65713614, 0.22872178, 0.07212383, 0.66739822],\n",
              "       [0.41161464, 0.73327303, 0.44046399, 0.17586503, 0.80706354]])"
            ]
          },
          "metadata": {},
          "execution_count": 127
        }
      ],
      "source": [
        "Z = (Z - Z.min()) / (Z.max() - Z.min())\n",
        "Z"
      ]
    },
    {
      "cell_type": "markdown",
      "metadata": {
        "id": "iZc4BI3YOXoa"
      },
      "source": [
        "아래 코드는 수정하지 마세요!!!"
      ]
    },
    {
      "cell_type": "code",
      "execution_count": null,
      "metadata": {
        "id": "_tqXkcUZOXoa"
      },
      "outputs": [],
      "source": [
        "assert (Z.max() == 1 and Z.min() == 0)"
      ]
    },
    {
      "cell_type": "markdown",
      "metadata": {
        "id": "JbIr-lWNOXob"
      },
      "source": [
        "## 3차원 어레이"
      ]
    },
    {
      "cell_type": "markdown",
      "metadata": {
        "id": "q-1npL4aOXob"
      },
      "source": [
        "**문제 1**"
      ]
    },
    {
      "cell_type": "markdown",
      "metadata": {
        "id": "k4eBBvaiOXob"
      },
      "source": [
        "(1) 변수 `Z`가 (3, 3, 3) 모양의 3차원 어레이를 가리키도록 하라.\n",
        "단, 어레이의 항목은 0과 1 사이의 임의의 부동소수점으로 구성되어야 한다.\n",
        "또한 `np.random.random()` 함수를 이용한다."
      ]
    },
    {
      "cell_type": "code",
      "execution_count": null,
      "metadata": {
        "id": "v-K8hejPLP11",
        "colab": {
          "base_uri": "https://localhost:8080/"
        },
        "outputId": "9d2c4976-c9dc-4125-ea34-f9c133306ab7"
      },
      "outputs": [
        {
          "output_type": "stream",
          "name": "stdout",
          "text": [
            "[[[0.05101668 0.7596113  0.2918252 ]\n",
            "  [0.66464112 0.72461102 0.26898231]\n",
            "  [0.273065   0.65565915 0.23529709]]\n",
            "\n",
            " [[0.64130772 0.84104328 0.96658622]\n",
            "  [0.6985222  0.13951389 0.40240153]\n",
            "  [0.53538265 0.91903121 0.22478481]]\n",
            "\n",
            " [[0.47412903 0.99692049 0.622288  ]\n",
            "  [0.90486647 0.22752884 0.98652392]\n",
            "  [0.32540699 0.1828396  0.56304899]]]\n",
            "(3, 3, 3)\n",
            "float64\n"
          ]
        }
      ],
      "source": [
        "# None을 적절한 표현식으로 대체하라.\n",
        "import numpy as np\n",
        "Z = np.random.random((3,3,3))\n",
        "print(Z)\n",
        "print(Z.shape)\n",
        "print(Z.dtype)"
      ]
    },
    {
      "cell_type": "markdown",
      "metadata": {
        "id": "OM-fbucOOXob"
      },
      "source": [
        "아래 코드는 수정하지 마세요!!!"
      ]
    },
    {
      "cell_type": "code",
      "execution_count": null,
      "metadata": {
        "id": "p0G1pf2HOXoc"
      },
      "outputs": [],
      "source": [
        "assert (Z.shape == (3, 3, 3))\n",
        "assert (Z.dtype == 'f8')"
      ]
    },
    {
      "cell_type": "markdown",
      "metadata": {
        "id": "aHo8x1uYOXoc"
      },
      "source": [
        "(2) `Z`에 포함된 항목들 중에서 최댓값과 최솟값의 차이를 구하라.\n",
        "단, `maximum`, `mininum` 두 변수가 각각 최댓값과 최솟값을 가리키도록 하며,\n",
        "`max()`와 `min()` 어레이 메서드를 이용한다."
      ]
    },
    {
      "cell_type": "code",
      "execution_count": null,
      "metadata": {
        "id": "pOQLVVwaOXoc",
        "colab": {
          "base_uri": "https://localhost:8080/"
        },
        "outputId": "18097b1e-0dff-4d01-ef3d-19e8c12c2794"
      },
      "outputs": [
        {
          "output_type": "stream",
          "name": "stdout",
          "text": [
            "최댓값: 0.9947577318254426\n",
            "최솟값: 0.03119053404352623\n",
            "최댓값과 최솟값의 차이: 0.9635671977819164\n"
          ]
        }
      ],
      "source": [
        "# None을 적절한 표현식으로 대체하라.\n",
        "import numpy as np\n",
        "\n",
        "# (5, 5) 모양의 무작위 값으로 채워진 배열 생성\n",
        "Z = np.random.random((5, 5))\n",
        "\n",
        "# 배열의 최댓값과 최솟값 계산\n",
        "maximum = Z.max()\n",
        "minimum = Z.min()\n",
        "\n",
        "# 최댓값과 최솟값의 차이 계산\n",
        "difference = maximum - minimum\n",
        "\n",
        "print(\"최댓값:\", maximum)\n",
        "print(\"최솟값:\", minimum)\n",
        "print(\"최댓값과 최솟값의 차이:\", difference)"
      ]
    },
    {
      "cell_type": "markdown",
      "metadata": {
        "id": "v2XWKWhTOXoc"
      },
      "source": [
        "아래 코드는 수정하지 마세요!!!"
      ]
    },
    {
      "cell_type": "code",
      "execution_count": null,
      "metadata": {
        "id": "Vejeq_N4OXoc",
        "colab": {
          "base_uri": "https://localhost:8080/"
        },
        "outputId": "2040c5d9-2b9b-44ef-893b-419ac0b59fb4"
      },
      "outputs": [
        {
          "output_type": "stream",
          "name": "stdout",
          "text": [
            "최댓값과 최솟값의 차이: 0.9635671977819164\n"
          ]
        }
      ],
      "source": [
        "print(f\"최댓값과 최솟값의 차이: {maximum - minimum}\")"
      ]
    },
    {
      "cell_type": "markdown",
      "metadata": {
        "id": "Zyijm-3aOXod"
      },
      "source": [
        "## `dtype` 종류"
      ]
    },
    {
      "cell_type": "markdown",
      "metadata": {
        "id": "KctjNYH3OXod"
      },
      "source": [
        "**문제 1**"
      ]
    },
    {
      "cell_type": "markdown",
      "metadata": {
        "id": "K8Fd-58bOXod"
      },
      "source": [
        "아래 두 코드의 실행결과를 설명하라."
      ]
    },
    {
      "cell_type": "code",
      "execution_count": null,
      "metadata": {
        "id": "tO4Wf9PbOXod",
        "colab": {
          "base_uri": "https://localhost:8080/"
        },
        "outputId": "8dba6c8e-f771-4208-95b8-37e77b6daad1"
      },
      "outputs": [
        {
          "output_type": "stream",
          "name": "stdout",
          "text": [
            "-128\n",
            "127\n",
            "-2147483648\n",
            "2147483647\n",
            "-9223372036854775808\n",
            "9223372036854775807\n"
          ]
        }
      ],
      "source": [
        "for dtype in [np.int8, np.int32, np.int64]:\n",
        "    print(np.iinfo(dtype).min)\n",
        "    print(np.iinfo(dtype).max)"
      ]
    },
    {
      "cell_type": "markdown",
      "metadata": {
        "id": "UV-2tDMlOXod"
      },
      "source": [
        "`코드설명`:각 데이터 타입에 대한 최솟값과 최댓값이 출력됩니다. 이 정보를 사용하여 해당 데이터 타입으로 저장할 수 있는 값의 범위를 확인"
      ]
    },
    {
      "cell_type": "code",
      "execution_count": null,
      "metadata": {
        "id": "ysrrzUGZOXoe",
        "colab": {
          "base_uri": "https://localhost:8080/"
        },
        "outputId": "493daae6-2ba0-44c8-c92f-1e738cd54a10"
      },
      "outputs": [
        {
          "output_type": "stream",
          "name": "stdout",
          "text": [
            "-3.4028235e+38\n",
            "3.4028235e+38\n",
            "1.1920929e-07\n",
            "-1.7976931348623157e+308\n",
            "1.7976931348623157e+308\n",
            "2.220446049250313e-16\n"
          ]
        }
      ],
      "source": [
        "for dtype in [np.float32, np.float64]:\n",
        "    print(np.finfo(dtype).min)\n",
        "    print(np.finfo(dtype).max)\n",
        "    print(np.finfo(dtype).eps)"
      ]
    },
    {
      "cell_type": "markdown",
      "metadata": {
        "id": "xcKPhefvOXoe"
      },
      "source": [
        "`코드설명`:각 부동소수점 데이터 타입에 대한 최솟값, 최댓값, 그리고 최소 유효 비트(가장 작은 수와 그 수의 다음 표현 가능한 수 사이의 차이)가 출력"
      ]
    },
    {
      "cell_type": "markdown",
      "metadata": {
        "id": "PMeQob2hOXoe"
      },
      "source": [
        "**문제 2**"
      ]
    },
    {
      "cell_type": "markdown",
      "metadata": {
        "id": "38YvxllLOXoe"
      },
      "source": [
        "부동소수점으로 구성된 1차원 어레이가 아래와 같이 주어졌다."
      ]
    },
    {
      "cell_type": "code",
      "execution_count": null,
      "metadata": {
        "id": "Bq94SzWqOXoe"
      },
      "outputs": [],
      "source": [
        "Z = (np.random.rand(10)*100).astype(np.float32)"
      ]
    },
    {
      "cell_type": "markdown",
      "metadata": {
        "id": "ql71hkTEOXoe"
      },
      "source": [
        "변수 `Y`가 변수 `Z`가 가리키는 1차원 어레이의 dtype이 `int32`로 형변환된 1차원 어레이를 가리키도록 하라.\n",
        "단, `astype()` 메서드를 이용한다."
      ]
    },
    {
      "cell_type": "code",
      "execution_count": null,
      "metadata": {
        "id": "O9JUrPoNOXof",
        "colab": {
          "base_uri": "https://localhost:8080/"
        },
        "outputId": "7907b711-554c-4b36-f265-3cbec308db3e"
      },
      "outputs": [
        {
          "output_type": "stream",
          "name": "stdout",
          "text": [
            "[12 19 64 76 29 77 14 47 44 57]\n"
          ]
        }
      ],
      "source": [
        "# None을 적절한 표현식으로 대체하라.\n",
        "import numpy as np\n",
        "\n",
        "# 변수 Z가 가리키는 1차원 어레이 생성\n",
        "Z = (np.random.rand(10)*100).astype(np.float32)\n",
        "\n",
        "# int32로 형변환된 1차원 어레이 생성\n",
        "Y = Z.astype(np.int32)\n",
        "\n",
        "print(Y)"
      ]
    },
    {
      "cell_type": "markdown",
      "metadata": {
        "id": "h6x6YEiXOXof"
      },
      "source": [
        "아래 코드는 수정하지 마세요!!!"
      ]
    },
    {
      "cell_type": "code",
      "execution_count": null,
      "metadata": {
        "id": "zxb3W39zOXof"
      },
      "outputs": [],
      "source": [
        "assert (Y.shape == (10,))\n",
        "assert (Y.dtype == np.int32)"
      ]
    },
    {
      "cell_type": "markdown",
      "metadata": {
        "id": "5S8wx_9GOXof"
      },
      "source": [
        "**문제 3**"
      ]
    },
    {
      "cell_type": "markdown",
      "metadata": {
        "id": "S7dqit39OXof"
      },
      "source": [
        "변수 `Z`가 아래와 같이 무작위로 생성된 길이가 10인 1차원 어레이를 가리킨다."
      ]
    },
    {
      "cell_type": "code",
      "execution_count": null,
      "metadata": {
        "id": "aH1rn9fMOXog",
        "colab": {
          "base_uri": "https://localhost:8080/"
        },
        "outputId": "49a20d32-6cbc-4a05-ae68-6cf152939f28"
      },
      "outputs": [
        {
          "output_type": "execute_result",
          "data": {
            "text/plain": [
              "array([5.26244603, 8.20008368, 3.64221848, 4.39835732, 3.17239933,\n",
              "       9.22728533, 1.98584495, 6.36437528, 0.79585042, 2.99868701])"
            ]
          },
          "metadata": {},
          "execution_count": 107
        }
      ],
      "source": [
        "Z = np.random.uniform(0,10,10)\n",
        "Z"
      ]
    },
    {
      "cell_type": "markdown",
      "metadata": {
        "id": "UtKhxvW_OXog"
      },
      "source": [
        "(1) 나머지 연산자(`%`)를 이용하여 정수로만 구성된 어레이 `Y`를 생성하라."
      ]
    },
    {
      "cell_type": "code",
      "execution_count": null,
      "metadata": {
        "id": "wE2fwcp9OXog",
        "colab": {
          "base_uri": "https://localhost:8080/"
        },
        "outputId": "8aa09c4f-424c-4b1c-f587-2d8e1fb0431b"
      },
      "outputs": [
        {
          "output_type": "stream",
          "name": "stdout",
          "text": [
            "[9 5 4 9 1 4 4 2 8 6]\n"
          ]
        }
      ],
      "source": [
        "# None을 적절한 표현식으로 대체하라.\n",
        "import numpy as np\n",
        "\n",
        "# (0, 10) 범위에서 균일한 분포를 가진 10개의 무작위 실수 생성\n",
        "Z = np.random.uniform(0, 10, 10)\n",
        "\n",
        "# 정수로만 구성된 어레이 Y 생성\n",
        "Y = Z.astype(int) % 10\n",
        "\n",
        "print(Y)"
      ]
    },
    {
      "cell_type": "markdown",
      "metadata": {
        "id": "I8M1OXUAOXog"
      },
      "source": [
        "아래 코드는 수정하지 마세요!!!"
      ]
    },
    {
      "cell_type": "code",
      "execution_count": null,
      "metadata": {
        "id": "Cb32YWYlOXog"
      },
      "outputs": [],
      "source": [
        "assert (Y == Z.astype(np.int32)).all()"
      ]
    },
    {
      "cell_type": "markdown",
      "metadata": {
        "id": "s-IaGD-DOXoh"
      },
      "source": [
        "(2) 몫 연산자(`//`)를 이용하여 정수로만 구성된 어레이 `Y`를 생성하라."
      ]
    },
    {
      "cell_type": "code",
      "execution_count": null,
      "metadata": {
        "id": "rYPStKeOOXoh",
        "colab": {
          "base_uri": "https://localhost:8080/"
        },
        "outputId": "f85cc7e9-c86f-4215-a69f-6575e64d9162"
      },
      "outputs": [
        {
          "output_type": "stream",
          "name": "stdout",
          "text": [
            "[2 3 8 9 7 9 2 4 8 2]\n"
          ]
        }
      ],
      "source": [
        "# None을 적절한 표현식으로 대체하라.\n",
        "import numpy as np\n",
        "\n",
        "# (0, 10) 범위에서 균일한 분포를 가진 10개의 무작위 실수 생성\n",
        "Z = np.random.uniform(0, 10, 10)\n",
        "\n",
        "# 정수로만 구성된 어레이 Y 생성\n",
        "Y = Z.astype(int) // 1\n",
        "\n",
        "print(Y)"
      ]
    },
    {
      "cell_type": "markdown",
      "metadata": {
        "id": "-euVzXtsOXoh"
      },
      "source": [
        "아래 코드는 수정하지 마세요!!!"
      ]
    },
    {
      "cell_type": "code",
      "execution_count": null,
      "metadata": {
        "id": "vgBrLlLFOXoh"
      },
      "outputs": [],
      "source": [
        "assert (Y == Z.astype(np.int32)).all()"
      ]
    },
    {
      "cell_type": "markdown",
      "metadata": {
        "id": "GMiq_rp5OXoh"
      },
      "source": [
        "(3) 내림 함수 `np.floor()` 함수를 이용하여 정수로만 구성된 어레이 `Y`를 생성하라."
      ]
    },
    {
      "cell_type": "code",
      "execution_count": null,
      "metadata": {
        "id": "RgiXkDKYOXoh",
        "colab": {
          "base_uri": "https://localhost:8080/"
        },
        "outputId": "84803217-6325-4232-bf16-7551437ea367"
      },
      "outputs": [
        {
          "output_type": "stream",
          "name": "stdout",
          "text": [
            "[7 6 2 2 8 2 6 9 9 2]\n"
          ]
        }
      ],
      "source": [
        "# None을 적절한 표현식으로 대체하라.\n",
        "import numpy as np\n",
        "\n",
        "# (0, 10) 범위에서 균일한 분포를 가진 10개의 무작위 실수 생성\n",
        "Z = np.random.uniform(0, 10, 10)\n",
        "\n",
        "# 정수로만 구성된 어레이 Y 생성\n",
        "Y = np.floor(Z).astype(int)\n",
        "\n",
        "print(Y)"
      ]
    },
    {
      "cell_type": "markdown",
      "metadata": {
        "id": "VHQykeGjOXoi"
      },
      "source": [
        "아래 코드는 수정하지 마세요!!!"
      ]
    },
    {
      "cell_type": "code",
      "execution_count": null,
      "metadata": {
        "id": "7o2wI3OeOXoi"
      },
      "outputs": [],
      "source": [
        "assert (Y == Z.astype(np.int32)).all()"
      ]
    },
    {
      "cell_type": "markdown",
      "metadata": {
        "id": "XjMfN_HGOXoi"
      },
      "source": [
        "(4) `np.trunc()` 함수를 이용하여 정수로만 구성된 어레이 `Y`를 생성하라."
      ]
    },
    {
      "cell_type": "code",
      "execution_count": null,
      "metadata": {
        "id": "wW-ltgcLOXoj",
        "colab": {
          "base_uri": "https://localhost:8080/"
        },
        "outputId": "a9e6cb51-1d15-4879-d824-323cb14b7f3c"
      },
      "outputs": [
        {
          "output_type": "stream",
          "name": "stdout",
          "text": [
            "[7 3 0 2 1 7 8 0 7 5]\n"
          ]
        }
      ],
      "source": [
        "# None을 적절한 표현식으로 대체하라.\n",
        "import numpy as np\n",
        "\n",
        "# (0, 10) 범위에서 균일한 분포를 가진 10개의 무작위 실수 생성\n",
        "Z = np.random.uniform(0, 10, 10)\n",
        "\n",
        "# 정수로만 구성된 어레이\n",
        "Y = np.trunc(Z).astype(int)\n",
        "\n",
        "print(Y)"
      ]
    },
    {
      "cell_type": "markdown",
      "metadata": {
        "id": "Svlln4V6OXoj"
      },
      "source": [
        "아래 코드는 수정하지 마세요!!!"
      ]
    },
    {
      "cell_type": "code",
      "execution_count": null,
      "metadata": {
        "id": "noOP9ZXbOXoj"
      },
      "outputs": [],
      "source": [
        "assert (Y == Z.astype(np.int32)).all()"
      ]
    }
  ],
  "metadata": {
    "colab": {
      "provenance": [],
      "include_colab_link": true
    },
    "kernelspec": {
      "display_name": "Python 3 (ipykernel)",
      "language": "python",
      "name": "python3"
    },
    "language_info": {
      "codemirror_mode": {
        "name": "ipython",
        "version": 3
      },
      "file_extension": ".py",
      "mimetype": "text/x-python",
      "name": "python",
      "nbconvert_exporter": "python",
      "pygments_lexer": "ipython3",
      "version": "3.10.9"
    },
    "vscode": {
      "interpreter": {
        "hash": "ad0f3c8a064f687cbf898a0868fd45ba1c7e928ac8a0404f7c241d812ddc1e76"
      }
    }
  },
  "nbformat": 4,
  "nbformat_minor": 0
}