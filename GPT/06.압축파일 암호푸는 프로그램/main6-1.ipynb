{
 "cells": [
  {
   "cell_type": "code",
   "execution_count": 1,
   "metadata": {},
   "outputs": [
    {
     "name": "stdout",
     "output_type": "stream",
     "text": [
      "암호를 찾지 못했습니다.\n"
     ]
    }
   ],
   "source": [
    "import zipfile\n",
    "\n",
    "def crack_zip(zip_file_path):\n",
    "    \"\"\"\n",
    "    주어진 zip 파일의 암호를 찾는 함수.\n",
    "\n",
    "    Args:\n",
    "    - zip_file_path (str): zip 파일의 경로.\n",
    "\n",
    "    Returns:\n",
    "    - password (str 또는 None): 찾은 암호. 암호를 찾지 못한 경우 None을 반환.\n",
    "    \"\"\"\n",
    "    # 초기 범위 설정\n",
    "    lower_bound = 0\n",
    "    upper_bound = 255\n",
    "    \n",
    "    while lower_bound <= upper_bound:\n",
    "        # 중간 값을 계산하여 바이너리 서치 진행\n",
    "        mid = (lower_bound + upper_bound) // 2\n",
    "        password = bytes([mid])\n",
    "        \n",
    "        try:\n",
    "            with zipfile.ZipFile(zip_file_path, 'r') as zip_ref:\n",
    "                zip_ref.extractall(pwd=password)\n",
    "            print(f\"암호를 찾았습니다! 암호: {password.decode()}\")\n",
    "            return password.decode()\n",
    "        except Exception as e:\n",
    "            # 암호가 틀렸거나 압축 해제에 실패한 경우\n",
    "            # 다음 암호 시도로 넘어감\n",
    "            if 'Bad password' in str(e):\n",
    "                lower_bound = mid + 1\n",
    "            else:\n",
    "                upper_bound = mid - 1\n",
    "    \n",
    "    # 암호를 찾지 못한 경우\n",
    "    print(\"암호를 찾지 못했습니다.\")\n",
    "    return None\n",
    "\n",
    "# 함수 사용 예시\n",
    "zip_file_path = '암호.zip'  # 여기에 압축 파일 경로를 입력하세요\n",
    "crack_zip(zip_file_path)"
   ]
  }
 ],
 "metadata": {
  "kernelspec": {
   "display_name": "base",
   "language": "python",
   "name": "python3"
  },
  "language_info": {
   "codemirror_mode": {
    "name": "ipython",
    "version": 3
   },
   "file_extension": ".py",
   "mimetype": "text/x-python",
   "name": "python",
   "nbconvert_exporter": "python",
   "pygments_lexer": "ipython3",
   "version": "3.11.5"
  }
 },
 "nbformat": 4,
 "nbformat_minor": 2
}
