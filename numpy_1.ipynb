{
  "cells": [
    {
      "cell_type": "markdown",
      "metadata": {
        "id": "view-in-github",
        "colab_type": "text"
      },
      "source": [
        "<a href=\"https://colab.research.google.com/github/tor504/python/blob/main/numpy_1.ipynb\" target=\"_parent\"><img src=\"https://colab.research.google.com/assets/colab-badge.svg\" alt=\"Open In Colab\"/></a>"
      ]
    },
    {
      "cell_type": "markdown",
      "metadata": {
        "id": "rpetls0XaXxu"
      },
      "source": [
        "(sec:numpy_1)=\n",
        "# 넘파이 어레이"
      ]
    },
    {
      "cell_type": "markdown",
      "metadata": {
        "id": "Srvnq9kMaXxw"
      },
      "source": [
        "**주요 내용**\n",
        "\n",
        "- 넘파이 어레이 소개\n",
        "- 어레이 기초 연산"
      ]
    },
    {
      "cell_type": "markdown",
      "metadata": {
        "id": "GmJEUMw9aXxx"
      },
      "source": [
        "**슬라이드**\n",
        "\n",
        "본문 내용을 요약한 [슬라이드](https://github.com/codingalzi/datapy/raw/master/slides/slides-numpy_1.pdf)를 다운로드할 수 있다."
      ]
    },
    {
      "cell_type": "markdown",
      "metadata": {
        "id": "FTkfEIUraXxx"
      },
      "source": [
        "**기본 설정**\n",
        "\n",
        "`numpy` 모듈과 시각화 도구 모듈인 `matplotlib.pyplot`에 대한 기본 설정을 지정한다."
      ]
    },
    {
      "cell_type": "code",
      "execution_count": null,
      "metadata": {
        "id": "e8ZadclpaXxx"
      },
      "outputs": [],
      "source": [
        "# 넘파이\n",
        "import numpy as np\n",
        "# 램덤 시드\n",
        "np.random.seed(2024) # 실험 넘버\n",
        "# 어레이 사용되는 부동소수점들의 정확도 지정\n",
        "np.set_printoptions(precision=4, suppress=True)"
      ]
    },
    {
      "cell_type": "code",
      "execution_count": null,
      "metadata": {
        "id": "Fh-vnyRBaXxy"
      },
      "outputs": [],
      "source": [
        "# 파이플롯\n",
        "import matplotlib.pyplot as plt\n",
        "# 도표 크기 지정\n",
        "plt.rc('figure', figsize=(10, 6))"
      ]
    },
    {
      "cell_type": "markdown",
      "metadata": {
        "id": "BHgk8V1BaXxy"
      },
      "source": [
        "## 넘파이란?"
      ]
    },
    {
      "cell_type": "markdown",
      "metadata": {
        "id": "B4jgYG6YaXxy"
      },
      "source": [
        "**넘파이**<font size='2'>numpy</font>는 NUMerical PYthon의 줄임말이며,\n",
        "파이썬 데이터 과학에서 가장 중요한 도구를 제공하는 라이브러리이다.\n",
        "넘파이가 제공하는 가장 중요한 요소는 아래 두 가지이다.\n",
        "\n",
        "* 다차원 어레이(배열)\n",
        "* 메모리 효율적인 빠른 어레이 연산\n",
        "\n",
        "넘파이의 기능을 잘 이해한다면 이어서 다룰 **판다스**<font size='2'>pandas</font> 라이브러리가 지원하는\n",
        "데이터프레임<font size='2'>Dataframe</font> 자료형의 기능을 매우 쉽게 활용할 수 있다."
      ]
    },
    {
      "cell_type": "markdown",
      "metadata": {
        "id": "gZhoAwcfaXxy"
      },
      "source": [
        "리스트 연산과 넘파이 어레이 연산의 속도 차이를 아래 코드가 보여준다.\n",
        "아래 코드는 0부터 999,999까지의 숫자를 각각 두 배하는 연산에 필요한 시간을 측정한다.\n",
        "결과적으로 넘파이 어레이를 이용한 연산이 50배 정도 빠르다."
      ]
    },
    {
      "cell_type": "code",
      "execution_count": null,
      "metadata": {
        "id": "lI4QBRojaXxy"
      },
      "outputs": [],
      "source": [
        "my_array = np.arange(1000000)\n",
        "my_list = list(range(1000000))"
      ]
    },
    {
      "cell_type": "markdown",
      "metadata": {
        "id": "Am66KD5daXxy"
      },
      "source": [
        ":::{admonition} `%time` 매직 커맨드\n",
        ":class: warning\n",
        "\n",
        "`%time`은 코드 실행시간을 측정하는 IPython의 매직 커맨드 중의 하나이며, 파이썬 자체의 기능이 아니다.\n",
        ":::"
      ]
    },
    {
      "cell_type": "markdown",
      "metadata": {
        "id": "Ga-eooFsaXxy"
      },
      "source": [
        "아래 코드에서 `my_array * 2`는 `my_array` 어레이의 항목 각각을 두 배한 값을 항목으로 갖는다."
      ]
    },
    {
      "cell_type": "code",
      "execution_count": null,
      "metadata": {
        "colab": {
          "base_uri": "https://localhost:8080/"
        },
        "id": "_0W27g2taXxz",
        "outputId": "c1c7a9c6-0203-4092-f971-0385f8f539c3"
      },
      "outputs": [
        {
          "output_type": "stream",
          "name": "stdout",
          "text": [
            "CPU times: user 13 ms, sys: 10.9 ms, total: 23.9 ms\n",
            "Wall time: 24.1 ms\n"
          ]
        }
      ],
      "source": [
        "%time for _ in range(10): my_array2 = my_array * 2 # 1초 1000 m/s"
      ]
    },
    {
      "cell_type": "code",
      "execution_count": null,
      "metadata": {
        "colab": {
          "base_uri": "https://localhost:8080/"
        },
        "id": "dbH9qbMaaXxz",
        "outputId": "3f54e1e3-92a0-49a6-ab81-7c70927c9233"
      },
      "outputs": [
        {
          "output_type": "stream",
          "name": "stdout",
          "text": [
            "CPU times: user 666 ms, sys: 180 ms, total: 845 ms\n",
            "Wall time: 851 ms\n"
          ]
        }
      ],
      "source": [
        "%time for _ in range(10): my_list2 = [x * 2 for x in my_list]"
      ]
    },
    {
      "cell_type": "markdown",
      "metadata": {
        "id": "n9vnauYWaXxz"
      },
      "source": [
        "이제부터 넘파이에 대해 필수적으로 알아 두어야만 하는 내용들을 정리하며 살펴본다."
      ]
    },
    {
      "cell_type": "markdown",
      "metadata": {
        "id": "i-JQaGl-aXxz"
      },
      "source": [
        "## 다차원 어레이"
      ]
    },
    {
      "cell_type": "markdown",
      "metadata": {
        "id": "ebBEy-1_aXxz"
      },
      "source": [
        "리스트, 튜플 등을 `np.array()` 함수를 이용하여 어레이로 변환시킬 수 있다."
      ]
    },
    {
      "cell_type": "markdown",
      "metadata": {
        "id": "UUcWZtCzaXxz"
      },
      "source": [
        "### 1차원 어레이"
      ]
    },
    {
      "cell_type": "markdown",
      "metadata": {
        "id": "q-UenOc-aXx0"
      },
      "source": [
        "* 리스트 활용"
      ]
    },
    {
      "cell_type": "code",
      "execution_count": null,
      "metadata": {
        "colab": {
          "base_uri": "https://localhost:8080/"
        },
        "id": "_brtAVkBaXx0",
        "outputId": "8fb3fdd5-666a-4888-948f-43e1a7893e45"
      },
      "outputs": [
        {
          "output_type": "execute_result",
          "data": {
            "text/plain": [
              "array([6. , 7.5, 8. , 0. , 1. ])"
            ]
          },
          "metadata": {},
          "execution_count": 6
        }
      ],
      "source": [
        "data1 = [6, 7.5, 8, 0, 1]\n",
        "arr1 = np.array(data1)\n",
        "arr1"
      ]
    },
    {
      "cell_type": "markdown",
      "metadata": {
        "id": "hqM6lqs4aXx0"
      },
      "source": [
        "* 튜플 활용"
      ]
    },
    {
      "cell_type": "code",
      "execution_count": null,
      "metadata": {
        "colab": {
          "base_uri": "https://localhost:8080/"
        },
        "id": "5ea1doTIaXx0",
        "outputId": "bd0f3361-ad03-4cd0-db5f-f673f977d839"
      },
      "outputs": [
        {
          "output_type": "execute_result",
          "data": {
            "text/plain": [
              "array([6. , 7.5, 8. , 0. , 1. ])"
            ]
          },
          "metadata": {},
          "execution_count": 7
        }
      ],
      "source": [
        "data1 = (6, 7.5, 8, 0, 1)\n",
        "arr1 = np.array(data1)\n",
        "arr1"
      ]
    },
    {
      "cell_type": "markdown",
      "metadata": {
        "id": "aYLssuZ0aXx0"
      },
      "source": [
        "**`ndarray` 자료형**\n",
        "\n",
        "넘파이 어레이의 자료형은 `ndarray`이다."
      ]
    },
    {
      "cell_type": "code",
      "execution_count": null,
      "metadata": {
        "colab": {
          "base_uri": "https://localhost:8080/"
        },
        "id": "omBjOiTNaXx0",
        "outputId": "3951f805-439b-407b-cdf2-c7c32bfe19ff"
      },
      "outputs": [
        {
          "output_type": "execute_result",
          "data": {
            "text/plain": [
              "numpy.ndarray"
            ]
          },
          "metadata": {},
          "execution_count": 8
        }
      ],
      "source": [
        "type(arr1)"
      ]
    },
    {
      "cell_type": "markdown",
      "metadata": {
        "id": "w7Pg-Y_-aXx0"
      },
      "source": [
        "### 2차원 어레이"
      ]
    },
    {
      "cell_type": "markdown",
      "metadata": {
        "id": "876dve8UaXx0"
      },
      "source": [
        "중첩된 리스트를 2차원 어레이로 변환할 수 있다.\n",
        "단, 항목으로 사용된 리스트의 길이가 모두 동일해야 한다.\n",
        "즉, 2차원 어레이는 어레이의 모든 항목이 동일한 크기의 1차원 어레이이다."
      ]
    },
    {
      "cell_type": "code",
      "execution_count": null,
      "metadata": {
        "colab": {
          "base_uri": "https://localhost:8080/"
        },
        "id": "sswqHM_UaXx0",
        "outputId": "35aec761-65a5-4b4a-d0bd-4b6adf0b23eb"
      },
      "outputs": [
        {
          "output_type": "execute_result",
          "data": {
            "text/plain": [
              "array([[1, 2, 3, 4],\n",
              "       [5, 6, 7, 8]])"
            ]
          },
          "metadata": {},
          "execution_count": 9
        }
      ],
      "source": [
        "data2 = [[1, 2, 3, 4], [5, 6, 7, 8]]\n",
        "arr2 = np.array(data2)\n",
        "arr2"
      ]
    },
    {
      "cell_type": "markdown",
      "metadata": {
        "id": "aPtY8MhjaXx1"
      },
      "source": [
        "**`shape`** 속성\n",
        "\n",
        "어레이 객체의 `shape` 속성은 생성된 어레이의 모양을 저장한다.\n",
        "2차원 어레이는 행과 열의 크기를 이용한 튜플로 보여준다.\n",
        "위 어레이의 모양(shape)은 (2, 4)이다.\n",
        "\n",
        "* 2: 항목이 두개\n",
        "* 4: 각각의 항목은 길이가 4인 어레이"
      ]
    },
    {
      "cell_type": "code",
      "execution_count": null,
      "metadata": {
        "colab": {
          "base_uri": "https://localhost:8080/"
        },
        "id": "ISY4Imo0aXx1",
        "outputId": "e597efbf-5afc-4eb0-e174-5d9c9f1d2d73"
      },
      "outputs": [
        {
          "output_type": "execute_result",
          "data": {
            "text/plain": [
              "(2, 4)"
            ]
          },
          "metadata": {},
          "execution_count": 10
        }
      ],
      "source": [
        "arr2.shape"
      ]
    },
    {
      "cell_type": "markdown",
      "metadata": {
        "id": "uk3CwZDaaXx1"
      },
      "source": [
        "1차원 어레이의 모양은 어레이의 길이 정보를 길이가 1인 튜플로 저장한다."
      ]
    },
    {
      "cell_type": "code",
      "execution_count": null,
      "metadata": {
        "colab": {
          "base_uri": "https://localhost:8080/"
        },
        "id": "k-8c4i03aXx1",
        "outputId": "5017510a-3c23-45b7-8705-1e04ac3321fa"
      },
      "outputs": [
        {
          "output_type": "execute_result",
          "data": {
            "text/plain": [
              "(5,)"
            ]
          },
          "metadata": {},
          "execution_count": 11
        }
      ],
      "source": [
        "arr1.shape"
      ]
    },
    {
      "cell_type": "markdown",
      "metadata": {
        "id": "9qrAWqQyaXx1"
      },
      "source": [
        "**`dtype`** 속성\n",
        "\n",
        "어레이 객체의 `dtype` 속성은 어레이에 사용된 항목들의 자료형을 저장한다.\n",
        "어레이의 모든 항목은 **동일한 자료형**을 가져야 한다.\n",
        "넘파이는 파이썬 표준에서 제공하는 자료형보다 세분화된 자료형을 지원한다.\n",
        "예를 들어, `float64`는 64비트로 구현된 부동소수점 자료형을 가리킨다.\n",
        "앞으로 계속해서 세분화된 자료형을 만나게 될 것이다."
      ]
    },
    {
      "cell_type": "markdown",
      "metadata": {
        "id": "88Wfq1t6aXx1"
      },
      "source": [
        "`arr2` 항목의 자료형은 `int64`, 즉, 64비트로 구현된 정수 자료형이다."
      ]
    },
    {
      "cell_type": "code",
      "execution_count": null,
      "metadata": {
        "colab": {
          "base_uri": "https://localhost:8080/"
        },
        "id": "DyWzrLU0aXx1",
        "outputId": "de040359-33bc-45b5-8e1c-28411977ee4f"
      },
      "outputs": [
        {
          "output_type": "execute_result",
          "data": {
            "text/plain": [
              "dtype('int64')"
            ]
          },
          "metadata": {},
          "execution_count": 12
        }
      ],
      "source": [
        "arr2.dtype"
      ]
    },
    {
      "cell_type": "markdown",
      "metadata": {
        "id": "EN-KfUcOaXx1"
      },
      "source": [
        "**`ndim` 속성**"
      ]
    },
    {
      "cell_type": "markdown",
      "metadata": {
        "id": "XDj5t9cRaXx1"
      },
      "source": [
        "차원은 `ndim` 속성에 저장되며, `shape`에 저정된 튜플의 길이와 동일하다."
      ]
    },
    {
      "cell_type": "code",
      "execution_count": null,
      "metadata": {
        "colab": {
          "base_uri": "https://localhost:8080/"
        },
        "id": "drqDV427aXx2",
        "outputId": "c1714fd7-145d-4ebf-bbad-b331eb2bec18"
      },
      "outputs": [
        {
          "output_type": "execute_result",
          "data": {
            "text/plain": [
              "2"
            ]
          },
          "metadata": {},
          "execution_count": 13
        }
      ],
      "source": [
        "arr2.ndim"
      ]
    },
    {
      "cell_type": "markdown",
      "metadata": {
        "id": "OLSFSBWVaXx2"
      },
      "source": [
        "1차원 어레이의 차원은 1이다."
      ]
    },
    {
      "cell_type": "code",
      "execution_count": null,
      "metadata": {
        "colab": {
          "base_uri": "https://localhost:8080/"
        },
        "id": "o9zxyUnwaXx2",
        "outputId": "508be1a3-3c6f-4aaf-9e26-fc0241f8e21f"
      },
      "outputs": [
        {
          "output_type": "execute_result",
          "data": {
            "text/plain": [
              "1"
            ]
          },
          "metadata": {},
          "execution_count": 14
        }
      ],
      "source": [
        "arr1.ndim"
      ]
    },
    {
      "cell_type": "markdown",
      "metadata": {
        "id": "qtMieEZCaXx2"
      },
      "source": [
        "### 3차원 어레이"
      ]
    },
    {
      "cell_type": "markdown",
      "metadata": {
        "id": "sgvzTc8waXx2"
      },
      "source": [
        "3차원 이상의 어레이는 처음에는 매우 생소하게 다가올 수 있다.\n",
        "하지만 이미지 데이터 분석에서 가장 기본으로 사용되는 차원이기에 3차원 어레이에 익숙해져야 한다.\n",
        "\n",
        "(n, m, p) 모양의 3차원 어레이를 이해하는 두 가지 방법은 다음과 같다.\n",
        "\n",
        "첫째, 바둑판을 (n, m) 크기의 격자로 나누고 각각의 칸에 길이가 p 인 1차원 어레이가\n",
        "위치하는 것으로 이해한다.\n",
        "아래 그림은 (3, 3, 3) 모양의 어레이이며, (3, 3) 모양의 바둑판에\n",
        "0과 1사이의 부동소수점으로 구성된 (R, G, B) 색상 정보를 담은 길이가 3인 튜플을 표현한다."
      ]
    },
    {
      "cell_type": "markdown",
      "metadata": {
        "id": "nPY9RgT4aXx2"
      },
      "source": [
        "<div align=\"center\" border=\"1px\"><img src=\"https://raw.githubusercontent.com/codingalzi/datapy/master/jupyter-book/images/impixelregion.png\" style=\"width:5=700px;\"></div>\n",
        "\n",
        "<p><div style=\"text-align: center\">&lt;그림 출처: <a href=\"http://maprabu.blogspot.com/2013/08/dont-photoshop-just-matlab-it.html\">Big Data & Image Processing</a>&gt;</div></p>"
      ]
    },
    {
      "cell_type": "markdown",
      "metadata": {
        "id": "HhfUkR9UaXx2"
      },
      "source": [
        "둘째, (m, p) 모양의 2차원 어레이 n 개를 항목으로 갖는 1차원 어레이로 이해한다.\n",
        "아래 `threeD_array` 변수가 가리키는 3차원 어레이는 (3, 2) 모양의 2차원 어레이를 4개 포함한 1차원 어레이로 이해할 수 있다."
      ]
    },
    {
      "cell_type": "markdown",
      "metadata": {
        "id": "6APoYx_0aXx2"
      },
      "source": [
        "<div align=\"center\" border=\"1px\"><img src=\"https://raw.githubusercontent.com/codingalzi/datapy/master/jupyter-book/images/numpy-array.svg\" style=\"width:30%;\"></div>\n",
        "\n",
        "<p><div style=\"text-align: center\">&lt;그림 출처: <a href=\"https://www.reallifeedublogging.com/2020/07/numpy-arrays-and-data-analysis.html\">NumPy Arrays and Data Analysis</a>&gt;</div></p>"
      ]
    },
    {
      "cell_type": "code",
      "execution_count": null,
      "metadata": {
        "id": "M05btE3naXx3"
      },
      "outputs": [],
      "source": [
        "threeD_array = np.array([[[7, 1],\n",
        "                          [9, 4],\n",
        "                          [2, 3]],\n",
        "\n",
        "                         [[4, 3],\n",
        "                          [0, 1],\n",
        "                          [8, 0]],\n",
        "\n",
        "                         [[1, 2],\n",
        "                          [3, 4],\n",
        "                          [6, 9]],\n",
        "\n",
        "                         [[5, 11],\n",
        "                          [8, 5],\n",
        "                          [4, 7]]])"
      ]
    },
    {
      "cell_type": "code",
      "execution_count": null,
      "metadata": {
        "id": "hjcyEd3CaXx3",
        "outputId": "698c96ca-3e03-4b92-fc92-e795e1ee1774"
      },
      "outputs": [
        {
          "data": {
            "text/plain": [
              "(4, 3, 2)"
            ]
          },
          "execution_count": 9,
          "metadata": {},
          "output_type": "execute_result"
        }
      ],
      "source": [
        "threeD_array.shape"
      ]
    },
    {
      "cell_type": "markdown",
      "metadata": {
        "id": "6pGZ3uA_aXx3"
      },
      "source": [
        ":::{admonition} 어레이의 차원 대 벡터의 차원\n",
        ":class: info\n",
        "\n",
        "벡터는 1차원 어레이에 해당한다.\n",
        "그리고 벡터의 차원은 벡터에 포함된 항목의 개수,\n",
        "즉 1차원 어레이의 모양<font size='2'>shape</font>에 사용되는 항목의 값이다.\n",
        "따라서 벡터의 차원과 어레이의 차원은 기본적으로 아무 상관이 없다.\n",
        ":::"
      ]
    },
    {
      "cell_type": "markdown",
      "metadata": {
        "id": "tnOJnzuXaXx3"
      },
      "source": [
        "### 어레이 객체 생성 함수"
      ]
    },
    {
      "cell_type": "markdown",
      "metadata": {
        "id": "KRs78xoHaXx3"
      },
      "source": [
        "배열을 쉽게 생성할 수 있는 함수는 다음과 같으며,\n",
        "각 함수의 기능은\n",
        "[numpy cheat sheet](https://ipgp.github.io/scientific_python_cheat_sheet/?utm_content=buffer7d821&utm_medium=social&utm_source=twitter.com&utm_campaign=buffer#numpy-import-numpy-as-np)를\n",
        "참고한다.\n",
        "\n",
        "* `np.array()`\n",
        "* `np.arange()`\n",
        "* `np.diag()`\n",
        "* `np.empty()`\n",
        "* `np.ones()`\n",
        "* `np.zeros()`"
      ]
    },
    {
      "cell_type": "markdown",
      "metadata": {
        "id": "ZOfsi5pDaXx3"
      },
      "source": [
        "`np.array()` 함수는 앞서 소개하였으며\n",
        "추가로 `np.zeros()`, `np.arange()` 두 함수를 간략하게 다룬다.\n",
        "나머지 함수들은 연습문제를 통해 학습하도록 한다."
      ]
    },
    {
      "cell_type": "markdown",
      "metadata": {
        "id": "c7Wfsz2UaXx3"
      },
      "source": [
        "**`zeros()` 함수**\n",
        "\n",
        "0으로 이루어진 어레이를 생성한다.\n",
        "1차원인 경우 정수를 인자로 사용한다."
      ]
    },
    {
      "cell_type": "code",
      "execution_count": null,
      "metadata": {
        "id": "TozBHrmlaXx3",
        "outputId": "8c0ad979-a10d-4952-ed96-a7b3d9ec93b9"
      },
      "outputs": [
        {
          "data": {
            "text/plain": [
              "array([0., 0., 0., 0., 0., 0., 0., 0., 0., 0.])"
            ]
          },
          "execution_count": 18,
          "metadata": {},
          "output_type": "execute_result"
        }
      ],
      "source": [
        "np.zeros(10)"
      ]
    },
    {
      "cell_type": "markdown",
      "metadata": {
        "id": "udY1Kq5yaXx4"
      },
      "source": [
        "2차원부터는 정수들의 튜플로 모양을 지정한다."
      ]
    },
    {
      "cell_type": "code",
      "execution_count": null,
      "metadata": {
        "id": "3I860JfNaXx4",
        "outputId": "e5f4fb49-ac74-452f-cefe-5497a31d6306"
      },
      "outputs": [
        {
          "data": {
            "text/plain": [
              "array([[0., 0., 0., 0., 0., 0.],\n",
              "       [0., 0., 0., 0., 0., 0.],\n",
              "       [0., 0., 0., 0., 0., 0.]])"
            ]
          },
          "execution_count": 19,
          "metadata": {},
          "output_type": "execute_result"
        }
      ],
      "source": [
        "np.zeros((3, 6))"
      ]
    },
    {
      "cell_type": "code",
      "execution_count": null,
      "metadata": {
        "id": "wz4HO9hsaXx4",
        "outputId": "efce9059-ee9c-48c7-8d1e-ad85b533a0c4"
      },
      "outputs": [
        {
          "data": {
            "text/plain": [
              "array([[[0., 0.],\n",
              "        [0., 0.],\n",
              "        [0., 0.]],\n",
              "\n",
              "       [[0., 0.],\n",
              "        [0., 0.],\n",
              "        [0., 0.]],\n",
              "\n",
              "       [[0., 0.],\n",
              "        [0., 0.],\n",
              "        [0., 0.]],\n",
              "\n",
              "       [[0., 0.],\n",
              "        [0., 0.],\n",
              "        [0., 0.]]])"
            ]
          },
          "execution_count": 20,
          "metadata": {},
          "output_type": "execute_result"
        }
      ],
      "source": [
        "np.zeros((4, 3, 2))"
      ]
    },
    {
      "cell_type": "markdown",
      "metadata": {
        "id": "C36PYrQ8aXx5"
      },
      "source": [
        "**`arange()` 함수**\n",
        "\n",
        "`range()` 함수와 유사하게 작동하며 부동소수점 스텝도 지원한다."
      ]
    },
    {
      "cell_type": "code",
      "execution_count": null,
      "metadata": {
        "id": "k0O7V2RHaXx5",
        "outputId": "d7e0822e-41aa-4ef9-c020-2e946f9ba6f8"
      },
      "outputs": [
        {
          "data": {
            "text/plain": [
              "array([ 0,  1,  2,  3,  4,  5,  6,  7,  8,  9, 10, 11, 12, 13, 14])"
            ]
          },
          "execution_count": 21,
          "metadata": {},
          "output_type": "execute_result"
        }
      ],
      "source": [
        "np.arange(15)"
      ]
    },
    {
      "cell_type": "code",
      "execution_count": null,
      "metadata": {
        "id": "v9xge3GOaXx5",
        "outputId": "c88a3a84-570c-4d15-81e9-a0d1e52dacb2"
      },
      "outputs": [
        {
          "data": {
            "text/plain": [
              "array([0. , 0.1, 0.2, 0.3, 0.4, 0.5, 0.6, 0.7, 0.8, 0.9])"
            ]
          },
          "execution_count": 22,
          "metadata": {},
          "output_type": "execute_result"
        }
      ],
      "source": [
        "np.arange(0, 1, 0.1)"
      ]
    },
    {
      "cell_type": "markdown",
      "metadata": {
        "id": "dS2-xRNaaXx5"
      },
      "source": [
        "## `dtype` 종류"
      ]
    },
    {
      "cell_type": "markdown",
      "metadata": {
        "id": "bSIT4fYvaXx6"
      },
      "source": [
        "`dtype` 속성은 어레이 항목의 자료형을 담고 있으며, 파이썬 표준 라이브러리에서 제공하는\n",
        "`int`, `float`, `str`, `bool` 등을 보다 세분화시킨 자료형을 제공한다."
      ]
    },
    {
      "cell_type": "markdown",
      "metadata": {
        "id": "mLW9bZVpaXx6"
      },
      "source": [
        "### 기본 `dtype`"
      ]
    },
    {
      "cell_type": "markdown",
      "metadata": {
        "id": "f7T7OWcUaXx6"
      },
      "source": [
        "여기서는 세분화된 자료형을 일일이 설명하기 보다는 예제를 이용하여 세분화된 자료형의 형식을\n",
        "살펴본다.\n",
        "자료형 세분화는 주로 자료형의 객체가 사용하는 메모리 용량을 제한하는 형식으로 이루어진다.\n",
        "이를 통해 보다 메모리 효율적이며 빠른 계산이 가능해졌다."
      ]
    },
    {
      "cell_type": "markdown",
      "metadata": {
        "id": "Tcf-kRkLaXx6"
      },
      "source": [
        "| 자료형 | 자료형 코드 | 설명 |\n",
        "| :--- | :--- | :--- |\n",
        "| int8 / uint8 | 'i1' / 'u1' | signed / unsigned 8 비트 정수|\n",
        "| int16 / uint16 | 'i2' / 'u2' | signed / unsigned 16 비트 정수|\n",
        "| int32 / uint32 | 'i4' / 'u4' | signed / unsigned 32 비트 정수|\n",
        "| int64 / uint64 | 'i8' / 'u8' | signed / unsigned 64 비트 정수|\n",
        "| float16 | 'f2' | 16비트(반 정밀도) 부동소수점 |\n",
        "| float32 | 'f4' 또는 'f' | 32비트(단 정밀도) 부동소수점 |\n",
        "| float64 | 'f8' 또는 'd' | 64비트(배 정밀도) 부동소수점 |\n",
        "| float128 | 'f16' 또는 'g' | 64비트(배 정밀도) 부동소수점 |\n",
        "| bool | '?' | 부울 값 |\n",
        "| object | 'O' | 임의의 파이썬 객체 |\n",
        "| string_ | 'S' | 고정 길이 아스키 문자열 / 예) `S8`, `S10` |\n",
        "| unicode_ | 'U' | 고정 길이 유니코드 문자열 / 예) `U8`, `U10`|"
      ]
    },
    {
      "cell_type": "markdown",
      "metadata": {
        "id": "iktX-K6haXx6"
      },
      "source": [
        "**`float64` 자료형**"
      ]
    },
    {
      "cell_type": "code",
      "execution_count": null,
      "metadata": {
        "id": "-TWRApsBaXx6",
        "outputId": "5522e4b7-2f69-49ec-cc0d-49a5426baaba"
      },
      "outputs": [
        {
          "data": {
            "text/plain": [
              "dtype('float64')"
            ]
          },
          "execution_count": 23,
          "metadata": {},
          "output_type": "execute_result"
        }
      ],
      "source": [
        "arr1 = np.array([1, 2, 3], dtype=np.float64)\n",
        "\n",
        "arr1.dtype"
      ]
    },
    {
      "cell_type": "code",
      "execution_count": null,
      "metadata": {
        "id": "FpAlVhGuaXx6",
        "outputId": "f8b34788-6e47-4f31-b767-7efdfb60cc39"
      },
      "outputs": [
        {
          "data": {
            "text/plain": [
              "dtype('float64')"
            ]
          },
          "execution_count": 24,
          "metadata": {},
          "output_type": "execute_result"
        }
      ],
      "source": [
        "arr1 = np.array([1, 2, 3], dtype='f8')\n",
        "\n",
        "arr1.dtype"
      ]
    },
    {
      "cell_type": "markdown",
      "metadata": {
        "id": "dty49JqIaXx6"
      },
      "source": [
        "**`int32` 자료형**"
      ]
    },
    {
      "cell_type": "code",
      "execution_count": null,
      "metadata": {
        "id": "CQZqo6mxaXx7",
        "outputId": "d29bc70d-6277-4b30-86ac-923fc5b8b183"
      },
      "outputs": [
        {
          "data": {
            "text/plain": [
              "dtype('int32')"
            ]
          },
          "execution_count": 25,
          "metadata": {},
          "output_type": "execute_result"
        }
      ],
      "source": [
        "arr2 = np.array([1, 2, 3], dtype=np.int32)\n",
        "\n",
        "arr2.dtype"
      ]
    },
    {
      "cell_type": "code",
      "execution_count": null,
      "metadata": {
        "id": "v0i4HuQ9aXx7",
        "outputId": "3b466fc8-c4cc-4472-e8b0-65acee408f15"
      },
      "outputs": [
        {
          "data": {
            "text/plain": [
              "dtype('int32')"
            ]
          },
          "execution_count": 26,
          "metadata": {},
          "output_type": "execute_result"
        }
      ],
      "source": [
        "arr2 = np.array([1, 2, 3], dtype='i4')\n",
        "\n",
        "arr2.dtype"
      ]
    },
    {
      "cell_type": "markdown",
      "metadata": {
        "id": "s6yJN7uVaXx7"
      },
      "source": [
        "**문자열 자료형**"
      ]
    },
    {
      "cell_type": "markdown",
      "metadata": {
        "id": "Gfzk4jwwaXx7"
      },
      "source": [
        "문자열은 기본적으로 유니코드로 처리되며 크기는 최장 길이의 문자열에 맞춰 결정된다."
      ]
    },
    {
      "cell_type": "code",
      "execution_count": null,
      "metadata": {
        "id": "XcQC3qsFaXx7",
        "outputId": "6b4fbd2a-9d31-40ed-eb41-3580a6c164d3"
      },
      "outputs": [
        {
          "data": {
            "text/plain": [
              "dtype('<U6')"
            ]
          },
          "execution_count": 5,
          "metadata": {},
          "output_type": "execute_result"
        }
      ],
      "source": [
        "np.array(['python', 'data']).dtype"
      ]
    },
    {
      "cell_type": "code",
      "execution_count": null,
      "metadata": {
        "id": "QzsvyMhDaXx7",
        "outputId": "86806b93-977b-49c8-f2c1-8780b0833023"
      },
      "outputs": [
        {
          "data": {
            "text/plain": [
              "dtype('<U4')"
            ]
          },
          "execution_count": 6,
          "metadata": {},
          "output_type": "execute_result"
        }
      ],
      "source": [
        "numeric_strings = np.array(['1.25', '-9.6', '42'])\n",
        "numeric_strings.dtype"
      ]
    },
    {
      "cell_type": "markdown",
      "metadata": {
        "id": "Gmjkd9uPaXx7"
      },
      "source": [
        "**`bool` 자료형**"
      ]
    },
    {
      "cell_type": "code",
      "execution_count": null,
      "metadata": {
        "id": "xBjiiC6GaXx7",
        "outputId": "2caf9738-a468-4733-95c1-14ccd3e64b04"
      },
      "outputs": [
        {
          "data": {
            "text/plain": [
              "dtype('bool')"
            ]
          },
          "execution_count": 4,
          "metadata": {},
          "output_type": "execute_result"
        }
      ],
      "source": [
        "np.array([True, False], dtype='?').dtype"
      ]
    },
    {
      "cell_type": "markdown",
      "metadata": {
        "id": "TG8OIIHxaXx8"
      },
      "source": [
        "### 형변환: `astype()` 메서드"
      ]
    },
    {
      "cell_type": "markdown",
      "metadata": {
        "id": "OcIA7c2-aXx8"
      },
      "source": [
        "`astype()` 메서드를 이용하여 dtype을 변경할 수 있다.\n",
        "즉, 항목의 자료형을 강제로 변환시킨다.\n",
        "\n",
        "* `int` 자료형을 `float` 자료형으로 형변환하기"
      ]
    },
    {
      "cell_type": "code",
      "execution_count": null,
      "metadata": {
        "id": "x8l3Wr0saXx8",
        "outputId": "fa41fe02-85bd-4509-86d0-79aa3c3f151d"
      },
      "outputs": [
        {
          "data": {
            "text/plain": [
              "dtype('int32')"
            ]
          },
          "execution_count": 27,
          "metadata": {},
          "output_type": "execute_result"
        }
      ],
      "source": [
        "arr = np.array([1, 2, 3, 4, 5])\n",
        "arr.dtype"
      ]
    },
    {
      "cell_type": "code",
      "execution_count": null,
      "metadata": {
        "id": "3zztB8sdaXx8",
        "outputId": "756ba1a3-38e6-493b-dde5-4e337806208d"
      },
      "outputs": [
        {
          "data": {
            "text/plain": [
              "dtype('float64')"
            ]
          },
          "execution_count": 28,
          "metadata": {},
          "output_type": "execute_result"
        }
      ],
      "source": [
        "float_arr = arr.astype(np.float64)\n",
        "float_arr.dtype"
      ]
    },
    {
      "cell_type": "markdown",
      "metadata": {
        "id": "YVJ9_8cUaXx8"
      },
      "source": [
        "* `float` 자료형을 `int` 자료형으로 형변환하기\n",
        "    - 소수점 이하는 버림."
      ]
    },
    {
      "cell_type": "code",
      "execution_count": null,
      "metadata": {
        "id": "CxFzRiJAaXx8",
        "outputId": "41bb563a-fc76-4f66-a8c2-92cdb9e64816"
      },
      "outputs": [
        {
          "data": {
            "text/plain": [
              "array([ 3.7, -1.2, -2.6,  0.5, 12.9, 10.1])"
            ]
          },
          "execution_count": 29,
          "metadata": {},
          "output_type": "execute_result"
        }
      ],
      "source": [
        "arr = np.array([3.7, -1.2, -2.6, 0.5, 12.9, 10.1])\n",
        "arr"
      ]
    },
    {
      "cell_type": "code",
      "execution_count": null,
      "metadata": {
        "id": "WLM2NDKFaXx8",
        "outputId": "3d2717ec-3446-413f-de99-8d878f298211"
      },
      "outputs": [
        {
          "data": {
            "text/plain": [
              "array([ 3, -1, -2,  0, 12, 10])"
            ]
          },
          "execution_count": 30,
          "metadata": {},
          "output_type": "execute_result"
        }
      ],
      "source": [
        "arr.astype(np.int32)"
      ]
    },
    {
      "cell_type": "markdown",
      "metadata": {
        "id": "ZHkWd6AGaXx9"
      },
      "source": [
        "* 숫자 형식의 문자열을 숫자로 형변환하기: 문자열 자료형의 크기는 넘파이가 알아서 정함"
      ]
    },
    {
      "cell_type": "code",
      "execution_count": null,
      "metadata": {
        "id": "bTQb7EdeaXx9",
        "outputId": "acedbef0-2e57-4d27-ab78-b6ae7b1de196"
      },
      "outputs": [
        {
          "data": {
            "text/plain": [
              "dtype('<U4')"
            ]
          },
          "execution_count": 6,
          "metadata": {},
          "output_type": "execute_result"
        }
      ],
      "source": [
        "numeric_strings = np.array(['1.25', '-9.6', '42'])\n",
        "numeric_strings.dtype"
      ]
    },
    {
      "cell_type": "code",
      "execution_count": null,
      "metadata": {
        "id": "fCSZFaT7aXx9",
        "outputId": "326d09d5-b515-40e7-c654-23e514a5b869"
      },
      "outputs": [
        {
          "data": {
            "text/plain": [
              "array([ 1.25, -9.6 , 42.  ])"
            ]
          },
          "execution_count": 32,
          "metadata": {},
          "output_type": "execute_result"
        }
      ],
      "source": [
        "numeric_strings.astype(float)"
      ]
    },
    {
      "cell_type": "code",
      "execution_count": null,
      "metadata": {
        "id": "encF0GW5aXx-",
        "outputId": "cd7f68a2-a92a-4b37-df0f-bbbc305cf49c"
      },
      "outputs": [
        {
          "data": {
            "text/plain": [
              "dtype('S12')"
            ]
          },
          "execution_count": 33,
          "metadata": {},
          "output_type": "execute_result"
        }
      ],
      "source": [
        "numeric_strings2 = np.array(['1.25345', '-9.673811345', '42'], dtype=np.string_)\n",
        "numeric_strings2.dtype"
      ]
    },
    {
      "cell_type": "markdown",
      "metadata": {
        "id": "J4nZLWJUaXx-"
      },
      "source": [
        "* 부동소수점으로 형변환하면\n",
        "    지정된 정밀도에 따라 소수점 이하를 자른다."
      ]
    },
    {
      "cell_type": "code",
      "execution_count": null,
      "metadata": {
        "id": "lYrh-rtAaXx-",
        "outputId": "ae467b0a-2536-4b68-a6fe-c94974e9047c"
      },
      "outputs": [
        {
          "data": {
            "text/plain": [
              "array([ 1.2534, -9.6738, 42.    ])"
            ]
          },
          "execution_count": 34,
          "metadata": {},
          "output_type": "execute_result"
        }
      ],
      "source": [
        "numeric_strings2.astype(float)"
      ]
    },
    {
      "cell_type": "markdown",
      "metadata": {
        "id": "rjU64nkxaXx-"
      },
      "source": [
        "**주의사항:** 앞서 부동소수점 정밀도를 4로 지정했기 때문에 어레이 항목은 모두 소수점 이하 네 자리까지만 보여준다.\n",
        "\n",
        "```python\n",
        "np.set_printoptions(precision=4, suppress=True)\n",
        "```\n",
        "\n",
        "부동소수점 정밀도를 변경하면 그에 따라 다르게 결정된다."
      ]
    },
    {
      "cell_type": "code",
      "execution_count": null,
      "metadata": {
        "id": "TzMO_KzAaXx-"
      },
      "outputs": [],
      "source": [
        "np.set_printoptions(precision=6, suppress=True)"
      ]
    },
    {
      "cell_type": "code",
      "execution_count": null,
      "metadata": {
        "id": "3bmEO1SbaXx-",
        "outputId": "f2de8f82-b7e9-40ff-af12-c33eec6e6f1f"
      },
      "outputs": [
        {
          "data": {
            "text/plain": [
              "array([ 1.25345 , -9.673811, 42.      ])"
            ]
          },
          "execution_count": 36,
          "metadata": {},
          "output_type": "execute_result"
        }
      ],
      "source": [
        "numeric_strings2.astype(float)"
      ]
    },
    {
      "cell_type": "markdown",
      "metadata": {
        "id": "tKRUZMc1aXx_"
      },
      "source": [
        "`astype()` 메서드의 인자로 다른 배열의 `dtype` 정보를 이용할 수도 있다."
      ]
    },
    {
      "cell_type": "code",
      "execution_count": null,
      "metadata": {
        "id": "w0eo8WCIaXx_",
        "outputId": "a5e3916b-d649-407a-cba1-46ddce0e34cc"
      },
      "outputs": [
        {
          "data": {
            "text/plain": [
              "dtype('int32')"
            ]
          },
          "execution_count": 37,
          "metadata": {},
          "output_type": "execute_result"
        }
      ],
      "source": [
        "int_array = np.arange(10)\n",
        "int_array.dtype"
      ]
    },
    {
      "cell_type": "code",
      "execution_count": null,
      "metadata": {
        "id": "qKGuCMPBaXx_"
      },
      "outputs": [],
      "source": [
        "calibers = np.array([.22, .270, .357, .380, .44, .50], dtype=np.float64)"
      ]
    },
    {
      "cell_type": "code",
      "execution_count": null,
      "metadata": {
        "id": "o2-o84S4aXx_",
        "outputId": "79f285c7-df12-4378-e9dc-69ec99569e1e"
      },
      "outputs": [
        {
          "data": {
            "text/plain": [
              "array([0., 1., 2., 3., 4., 5., 6., 7., 8., 9.])"
            ]
          },
          "execution_count": 39,
          "metadata": {},
          "output_type": "execute_result"
        }
      ],
      "source": [
        "int_array.astype(calibers.dtype)"
      ]
    },
    {
      "cell_type": "markdown",
      "metadata": {
        "id": "IPrPI6p0aXx_"
      },
      "source": [
        "자료형 코드를 이용하여 `dtype`을 지정할 수 있다. (위 테이블 참조)"
      ]
    },
    {
      "cell_type": "code",
      "execution_count": null,
      "metadata": {
        "id": "ZeQlqFziaXx_",
        "outputId": "8a90f4ec-2f7f-4b01-d843-8c57aca78e03"
      },
      "outputs": [
        {
          "data": {
            "text/plain": [
              "dtype('uint32')"
            ]
          },
          "execution_count": 40,
          "metadata": {},
          "output_type": "execute_result"
        }
      ],
      "source": [
        "empty_uint32 = np.empty(8, dtype='u4')\n",
        "empty_uint32.dtype"
      ]
    },
    {
      "cell_type": "markdown",
      "metadata": {
        "id": "qEplf7C-aXx_"
      },
      "source": [
        "## 어레이 연산"
      ]
    },
    {
      "cell_type": "markdown",
      "metadata": {
        "id": "-l2aS3xWaXx_"
      },
      "source": [
        "넘파이 어레이 연산은 기본적으로 항목별로 이루어진다.\n",
        "즉, 지정된 연산을 동일한 위치의 항목끼리 실행하여 새로운, 동일한 모양의 어레이를 생성한다."
      ]
    },
    {
      "cell_type": "code",
      "execution_count": null,
      "metadata": {
        "id": "DclwCwXraXx_",
        "outputId": "2c58eee8-433f-4097-b622-fc78b2a17f19"
      },
      "outputs": [
        {
          "data": {
            "text/plain": [
              "array([[1., 2., 3.],\n",
              "       [4., 5., 6.]])"
            ]
          },
          "execution_count": 41,
          "metadata": {},
          "output_type": "execute_result"
        }
      ],
      "source": [
        "arr = np.array([[1., 2., 3.], [4., 5., 6.]])\n",
        "arr"
      ]
    },
    {
      "cell_type": "code",
      "execution_count": null,
      "metadata": {
        "id": "nqOAa_aHaXyA",
        "outputId": "64365087-595e-405f-9ecc-1f9f9d53984e"
      },
      "outputs": [
        {
          "data": {
            "text/plain": [
              "array([[ 3.,  2.,  1.],\n",
              "       [ 4.,  2., 12.]])"
            ]
          },
          "execution_count": 42,
          "metadata": {},
          "output_type": "execute_result"
        }
      ],
      "source": [
        "arr2 = np.array([[3., 2., 1.], [4., 2., 12.]])\n",
        "arr2"
      ]
    },
    {
      "cell_type": "markdown",
      "metadata": {
        "id": "NAHDhSVyaXyA"
      },
      "source": [
        "**덧셈**"
      ]
    },
    {
      "cell_type": "code",
      "execution_count": null,
      "metadata": {
        "id": "qCdqqfRGaXyA",
        "outputId": "f2b902dc-81b8-4c47-f1cd-7f3634a09be1"
      },
      "outputs": [
        {
          "data": {
            "text/plain": [
              "array([[ 4.,  4.,  4.],\n",
              "       [ 8.,  7., 18.]])"
            ]
          },
          "execution_count": 43,
          "metadata": {},
          "output_type": "execute_result"
        }
      ],
      "source": [
        "arr + arr2"
      ]
    },
    {
      "cell_type": "markdown",
      "metadata": {
        "id": "7A0nYA8xaXyB"
      },
      "source": [
        "숫자와의 연산은 모든 항목에 동일한 값을 사용한다."
      ]
    },
    {
      "cell_type": "code",
      "execution_count": null,
      "metadata": {
        "id": "H5VPVpQDaXyB",
        "outputId": "49fe8f6b-6aff-41a2-8692-c73452f6d645"
      },
      "outputs": [
        {
          "data": {
            "text/plain": [
              "array([[3.4, 4.4, 5.4],\n",
              "       [6.4, 7.4, 8.4]])"
            ]
          },
          "execution_count": 44,
          "metadata": {},
          "output_type": "execute_result"
        }
      ],
      "source": [
        "arr + 2.4"
      ]
    },
    {
      "cell_type": "markdown",
      "metadata": {
        "id": "lugpbcCcaXyB"
      },
      "source": [
        "**뺄셈**"
      ]
    },
    {
      "cell_type": "code",
      "execution_count": null,
      "metadata": {
        "id": "I-mshiBnaXyB",
        "outputId": "be312ab4-3644-4d5f-ee75-f092aa76563b"
      },
      "outputs": [
        {
          "data": {
            "text/plain": [
              "array([[-2.,  0.,  2.],\n",
              "       [ 0.,  3., -6.]])"
            ]
          },
          "execution_count": 45,
          "metadata": {},
          "output_type": "execute_result"
        }
      ],
      "source": [
        "arr - arr2"
      ]
    },
    {
      "cell_type": "code",
      "execution_count": null,
      "metadata": {
        "id": "g0uGQ6CaaXyB",
        "outputId": "8033784e-def9-401e-b192-23a756156d47"
      },
      "outputs": [
        {
          "data": {
            "text/plain": [
              "array([[ 2.78,  1.78,  0.78],\n",
              "       [-0.22, -1.22, -2.22]])"
            ]
          },
          "execution_count": 46,
          "metadata": {},
          "output_type": "execute_result"
        }
      ],
      "source": [
        "3.78 - arr"
      ]
    },
    {
      "cell_type": "markdown",
      "metadata": {
        "id": "e7lH4tGaaXyB"
      },
      "source": [
        "**나눗셈**"
      ]
    },
    {
      "cell_type": "markdown",
      "metadata": {
        "id": "8ljQWdRGaXyB"
      },
      "source": [
        "나눗셈 또한 항목별로 연산이 이루어진다.\n",
        "따라서 0이 항목으로 포함되면 오류가 발생한다."
      ]
    },
    {
      "cell_type": "code",
      "execution_count": null,
      "metadata": {
        "id": "TjPpOt2xaXyB",
        "outputId": "4926e88f-27eb-46ff-ce58-4ad605a4d1f3"
      },
      "outputs": [
        {
          "data": {
            "text/plain": [
              "array([[0.333333, 1.      , 3.      ],\n",
              "       [1.      , 2.5     , 0.5     ]])"
            ]
          },
          "execution_count": 47,
          "metadata": {},
          "output_type": "execute_result"
        }
      ],
      "source": [
        "arr / arr2"
      ]
    },
    {
      "cell_type": "code",
      "execution_count": null,
      "metadata": {
        "id": "4yJvM39RaXyB",
        "outputId": "76b8998e-ef31-4ee6-fd4c-1b363e4bf0d2"
      },
      "outputs": [
        {
          "data": {
            "text/plain": [
              "array([[1.      , 0.5     , 0.333333],\n",
              "       [0.25    , 0.2     , 0.166667]])"
            ]
          },
          "execution_count": 48,
          "metadata": {},
          "output_type": "execute_result"
        }
      ],
      "source": [
        "1 / arr"
      ]
    },
    {
      "cell_type": "code",
      "execution_count": null,
      "metadata": {
        "id": "lUxvZb2XaXyC",
        "outputId": "9c41b081-2f10-4f2d-eb41-80c257e49b5b"
      },
      "outputs": [
        {
          "data": {
            "text/plain": [
              "array([[0.3125, 0.625 , 0.9375],\n",
              "       [1.25  , 1.5625, 1.875 ]])"
            ]
          },
          "execution_count": 49,
          "metadata": {},
          "output_type": "execute_result"
        }
      ],
      "source": [
        "arr / 3.2"
      ]
    },
    {
      "cell_type": "markdown",
      "metadata": {
        "id": "8hvIK4X7aXyC"
      },
      "source": [
        "**거듭제곱(지수승)**"
      ]
    },
    {
      "cell_type": "code",
      "execution_count": null,
      "metadata": {
        "id": "c9oxhVUjaXyC",
        "outputId": "e388e1c2-93da-43f5-bc80-14e1baf06b96"
      },
      "outputs": [
        {
          "data": {
            "text/plain": [
              "array([[1.000000e+00, 4.000000e+00, 3.000000e+00],\n",
              "       [2.560000e+02, 2.500000e+01, 2.176782e+09]])"
            ]
          },
          "execution_count": 50,
          "metadata": {},
          "output_type": "execute_result"
        }
      ],
      "source": [
        "arr ** arr2"
      ]
    },
    {
      "cell_type": "code",
      "execution_count": null,
      "metadata": {
        "id": "_JD5_r9yaXyC",
        "outputId": "c9a27001-3d28-4c13-b8e9-26b8b670f85c"
      },
      "outputs": [
        {
          "data": {
            "text/plain": [
              "array([[ 2.,  4.,  8.],\n",
              "       [16., 32., 64.]])"
            ]
          },
          "execution_count": 51,
          "metadata": {},
          "output_type": "execute_result"
        }
      ],
      "source": [
        "2 ** arr"
      ]
    },
    {
      "cell_type": "code",
      "execution_count": null,
      "metadata": {
        "id": "fQHrYiW5aXyC",
        "outputId": "31469725-a491-438e-81d6-6a481066a040"
      },
      "outputs": [
        {
          "data": {
            "text/plain": [
              "array([[1.      , 1.414214, 1.732051],\n",
              "       [2.      , 2.236068, 2.44949 ]])"
            ]
          },
          "execution_count": 52,
          "metadata": {},
          "output_type": "execute_result"
        }
      ],
      "source": [
        "arr ** 0.5"
      ]
    },
    {
      "cell_type": "markdown",
      "metadata": {
        "id": "yhKSW0gWaXyC"
      },
      "source": [
        "**비교 연산**"
      ]
    },
    {
      "cell_type": "code",
      "execution_count": null,
      "metadata": {
        "id": "WmmvZTr0aXyC",
        "outputId": "3f43475a-62e6-45b9-e876-3143e3ed19ff"
      },
      "outputs": [
        {
          "data": {
            "text/plain": [
              "array([[ True, False, False],\n",
              "       [False, False,  True]])"
            ]
          },
          "execution_count": 53,
          "metadata": {},
          "output_type": "execute_result"
        }
      ],
      "source": [
        "arr2 > arr"
      ]
    },
    {
      "cell_type": "code",
      "execution_count": null,
      "metadata": {
        "id": "ek4zcSmHaXyC",
        "outputId": "bf6607c0-85b9-440b-d2e6-c4ccb23215cb"
      },
      "outputs": [
        {
          "data": {
            "text/plain": [
              "array([[False,  True,  True],\n",
              "       [ True,  True, False]])"
            ]
          },
          "execution_count": 54,
          "metadata": {},
          "output_type": "execute_result"
        }
      ],
      "source": [
        "arr2 <= arr"
      ]
    },
    {
      "cell_type": "code",
      "execution_count": null,
      "metadata": {
        "id": "GBZbJIPdaXyC",
        "outputId": "de6c211d-5883-47de-caa1-9ad1f6b413bd"
      },
      "outputs": [
        {
          "data": {
            "text/plain": [
              "array([[False,  True,  True],\n",
              "       [ True,  True,  True]])"
            ]
          },
          "execution_count": 55,
          "metadata": {},
          "output_type": "execute_result"
        }
      ],
      "source": [
        "1.2 < arr"
      ]
    },
    {
      "cell_type": "code",
      "execution_count": null,
      "metadata": {
        "id": "IBAHrSnraXyD",
        "outputId": "43301e3d-671e-4739-938a-83602366588e"
      },
      "outputs": [
        {
          "data": {
            "text/plain": [
              "array([[False, False,  True],\n",
              "       [False, False, False]])"
            ]
          },
          "execution_count": 56,
          "metadata": {},
          "output_type": "execute_result"
        }
      ],
      "source": [
        "1.2 >= arr2"
      ]
    },
    {
      "cell_type": "code",
      "execution_count": null,
      "metadata": {
        "id": "9Z_cZx39aXyD",
        "outputId": "bebebf39-09cc-47cb-96ac-22f7a784fc8c"
      },
      "outputs": [
        {
          "data": {
            "text/plain": [
              "array([[ True,  True,  True],\n",
              "       [ True,  True,  True]])"
            ]
          },
          "execution_count": 57,
          "metadata": {},
          "output_type": "execute_result"
        }
      ],
      "source": [
        "arr == arr"
      ]
    },
    {
      "cell_type": "code",
      "execution_count": null,
      "metadata": {
        "id": "XwwHBRPcaXyD",
        "outputId": "bcc2d0d6-b28e-4c9d-a695-8badefc451c8"
      },
      "outputs": [
        {
          "data": {
            "text/plain": [
              "array([[ True, False,  True],\n",
              "       [False,  True,  True]])"
            ]
          },
          "execution_count": 58,
          "metadata": {},
          "output_type": "execute_result"
        }
      ],
      "source": [
        "arr != arr2"
      ]
    },
    {
      "cell_type": "markdown",
      "metadata": {
        "id": "EkDQgrKcaXyD"
      },
      "source": [
        "**논리 연산**"
      ]
    },
    {
      "cell_type": "markdown",
      "metadata": {
        "id": "oAQT-G5waXyE"
      },
      "source": [
        "사용 가능한 논리 연산은 아래 세 가지이다.\n",
        "\n",
        "* `~`: 부정(not) 연산자\n",
        "* `&`: 논리곱(and) 연산자\n",
        "* `|`: 논리합(or) 연산자"
      ]
    },
    {
      "cell_type": "code",
      "execution_count": null,
      "metadata": {
        "id": "lv8JnJ8baXyE",
        "outputId": "ce7f2260-d630-47c7-efc4-c8419555c40f"
      },
      "outputs": [
        {
          "data": {
            "text/plain": [
              "array([[False, False, False],\n",
              "       [False, False, False]])"
            ]
          },
          "execution_count": 59,
          "metadata": {},
          "output_type": "execute_result"
        }
      ],
      "source": [
        "~(arr == arr)"
      ]
    },
    {
      "cell_type": "code",
      "execution_count": null,
      "metadata": {
        "id": "1Ms6MeI5aXyF",
        "outputId": "8fa33583-380f-49b1-bdd5-41789bde9b3d"
      },
      "outputs": [
        {
          "data": {
            "text/plain": [
              "array([[ True,  True,  True],\n",
              "       [ True,  True,  True]])"
            ]
          },
          "execution_count": 60,
          "metadata": {},
          "output_type": "execute_result"
        }
      ],
      "source": [
        "(arr == arr) & (arr2 == arr2)"
      ]
    },
    {
      "cell_type": "code",
      "execution_count": null,
      "metadata": {
        "id": "9dAa7fTOaXyG",
        "outputId": "18d26818-f4eb-4660-8b97-7704929e4d8a"
      },
      "outputs": [
        {
          "data": {
            "text/plain": [
              "array([[ True, False,  True],\n",
              "       [False,  True,  True]])"
            ]
          },
          "execution_count": 61,
          "metadata": {},
          "output_type": "execute_result"
        }
      ],
      "source": [
        "~(arr == arr) | (arr2 != arr)"
      ]
    },
    {
      "cell_type": "markdown",
      "metadata": {
        "id": "Qz1qy2icaXyG"
      },
      "source": [
        "## 연습문제"
      ]
    },
    {
      "cell_type": "markdown",
      "metadata": {
        "id": "JK-F_IU8aXyH"
      },
      "source": [
        "참고: [(실습) 넘파이 어레이](https://colab.research.google.com/github/codingalzi/datapy/blob/master/practices/practice-numpy_1.ipynb)"
      ]
    }
  ],
  "metadata": {
    "kernelspec": {
      "display_name": "Python 3 (ipykernel)",
      "language": "python",
      "name": "python3"
    },
    "language_info": {
      "codemirror_mode": {
        "name": "ipython",
        "version": 3
      },
      "file_extension": ".py",
      "mimetype": "text/x-python",
      "name": "python",
      "nbconvert_exporter": "python",
      "pygments_lexer": "ipython3",
      "version": "3.9.13"
    },
    "vscode": {
      "interpreter": {
        "hash": "ad0f3c8a064f687cbf898a0868fd45ba1c7e928ac8a0404f7c241d812ddc1e76"
      }
    },
    "colab": {
      "provenance": [],
      "include_colab_link": true
    }
  },
  "nbformat": 4,
  "nbformat_minor": 0
}